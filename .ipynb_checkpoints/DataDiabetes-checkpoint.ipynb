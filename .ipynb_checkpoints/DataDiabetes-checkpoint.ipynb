{
 "cells": [
  {
   "cell_type": "markdown",
   "id": "a71fee81",
   "metadata": {},
   "source": [
    "#  Insights from Diabetes Prediction Data💡\n",
    "\n",
    "**Here are the insights from the analysis:**\n",
    "\n",
    "| Question | Insight |\n",
    "| ------- | ------- |\n",
    "| How many rows and columns are in the dataset? | The dataset contains 5,422 rows and 13 columns. |\n",
    "| What is the percentage of genders in the dataset? | There are aprox. 41% males 58% females. |\n",
    "| What is the percentage of diabetes in the dataset? | There are aprox. 8% diabetes. |\n",
    "| What is the most common age range in the dataset? | The most common age range is 40-60 years old. |\n",
    "| Does smoking incereases the chance of getting diabetes? | Yes it does. |\n",
    "| Does a heart disease increases the chance of having diabetes? | Yes, 32% of people with heart disease also have diabetes. |\n",
    "\n",
    "\n",
    "**Based on the EDA visualizations, here are some additional insights:**\n",
    "\n",
    "    People with higher BMI's tend to get diabetes.\n",
    "    Smoking incereases the chance of getting diabetes.\n",
    "    Most of the people with diabetes age 80 years old.\n",
    "    A higher HbA1c level indicates that human might have diabetes.\n",
    "    A higher blood glucose level indicates that human might have diabetes.\n",
    "\n"
   ]
  },
  {
   "cell_type": "markdown",
   "id": "962bdd50",
   "metadata": {
    "_cell_guid": "e3bc4854-2787-eae1-950d-2742ad3d7db2",
    "_uuid": "d507f816cc74a88c9afefd02cf225d1a7dd6461f"
   },
   "source": [
    "# DA Practice 2: Diabetes prediction\n",
    "\n",
    "\n",
    "[Data modeling](https://en.wikipedia.org/wiki/Data_modeling) is a crucial process in information management that involves the creation of a conceptual, logical, and physical representation of data. It provides a structured approach for organizing and storing data in a database, enabling efficient access and retrieval of information. Effective data modeling ensures the accuracy, consistency, and integrity of data by establishing clear relationships between data elements and defining their attributes.\n",
    "\n",
    "In this report, I will provide an overview of data modeling, including its importance, process, and techniques used in developing a data model. I will then demonstrate the application of data modeling by using a dataset that the teacher sent from kaggle. Additionally, I will explain the steps involved in the data modeling process. This is to cover modeling aspects that I can still imporve on."
   ]
  },
  {
   "cell_type": "markdown",
   "id": "6902f55a",
   "metadata": {},
   "source": [
    "## Data set\n",
    "\n",
    "Throughout this notebook I will work on the **Diabetes prediction dataset**. The Diabetes prediction [dataset](https://www.kaggle.com/datasets/iammustafatz/diabetes-prediction-dataset) is a collection of medical and demographic data from patients, along with their diabetes status (positive or negative). The data includes features such as age, gender, body mass index (BMI), hypertension, heart disease, smoking history, HbA1c level, and blood glucose level. This dataset can be used to build machine learning models to predict diabetes in patients based on their medical history and demographic information. This can be useful for healthcare professionals in identifying patients who may be at risk of developing diabetes and in developing personalized treatment plans. Additionally, the dataset can be used by researchers to explore the relationships between various medical and demographic factors and the likelihood of developing diabetes. "
   ]
  },
  {
   "cell_type": "markdown",
   "id": "1730ff7b",
   "metadata": {},
   "source": [
    "## Problem definition\n",
    "\n",
    "**Research question: How do we build a model that is able to predict the diabetes?**\n",
    "\n",
    "The main focus of this project is to build a model that is able to predict the diabetes, this is done using a few feature columns related to diabetes.\n",
    "\n",
    "Other questions to answer:\n",
    "\n",
    "How should you deal with data cleaning? \n",
    "What is the impact of the unbalanced data on your results? How can you mitigate it? \n",
    "What is the implication of using the random sampler, should we sample before diving the data into train and test, or after it?\n",
    "What happens if we apply the model trained on the sampled data on the entire dataset, does it work?"
   ]
  },
  {
   "cell_type": "markdown",
   "id": "4be4199f",
   "metadata": {},
   "source": [
    "## Loading the libraries\n",
    "\n",
    "I load some Data Analytics libraries first:"
   ]
  },
  {
   "cell_type": "code",
   "execution_count": 13,
   "id": "ce2a2162",
   "metadata": {},
   "outputs": [],
   "source": [
    "import numpy as np  # import auxiliary library, typical idiom\n",
    "import pandas as pd  # import the Pandas library, typical idiom\n",
    "import seaborn as sns\n",
    "import matplotlib.pyplot as plt\n",
    "import warnings\n",
    "warnings.filterwarnings('ignore')"
   ]
  },
  {
   "cell_type": "markdown",
   "id": "c2a900cc",
   "metadata": {
    "_cell_guid": "e3bc4854-2787-eae1-950d-2742ad3d7db2",
    "_uuid": "d507f816cc74a88c9afefd02cf225d1a7dd6461f"
   },
   "source": [
    "Now, I selectively import the relevant classes and functions from `sklearn`\n",
    "[(_SciKit Learn_, a Python library for machine learning)](http://scikit-learn.org/.)"
   ]
  },
  {
   "cell_type": "code",
   "execution_count": 14,
   "id": "25cfa07b",
   "metadata": {},
   "outputs": [],
   "source": [
    "from sklearn.metrics import accuracy_score, confusion_matrix, mean_squared_error, f1_score, roc_curve, roc_auc_score\n",
    "from sklearn.tree import DecisionTreeRegressor, export_text\n",
    "from sklearn.tree import plot_tree\n",
    "from sklearn.model_selection import GridSearchCV\n",
    "from sklearn.tree import DecisionTreeClassifier\n",
    "from imblearn.under_sampling import RandomUnderSampler\n",
    "from scipy.stats import zscore\n",
    "from sklearn.model_selection import train_test_split\n",
    "from sklearn import preprocessing\n",
    "from sklearn.preprocessing import LabelEncoder\n",
    "from sklearn import preprocessing"
   ]
  },
  {
   "cell_type": "markdown",
   "id": "25e3edf8",
   "metadata": {},
   "source": [
    "## Getting to know the data\n",
    "\n",
    "Salaries of Different Data Science Fields in the Data Science Domain"
   ]
  },
  {
   "cell_type": "code",
   "execution_count": 15,
   "id": "8b4f3ff9",
   "metadata": {
    "scrolled": false
   },
   "outputs": [
    {
     "data": {
      "text/html": [
       "<div>\n",
       "<style scoped>\n",
       "    .dataframe tbody tr th:only-of-type {\n",
       "        vertical-align: middle;\n",
       "    }\n",
       "\n",
       "    .dataframe tbody tr th {\n",
       "        vertical-align: top;\n",
       "    }\n",
       "\n",
       "    .dataframe thead th {\n",
       "        text-align: right;\n",
       "    }\n",
       "</style>\n",
       "<table border=\"1\" class=\"dataframe\">\n",
       "  <thead>\n",
       "    <tr style=\"text-align: right;\">\n",
       "      <th></th>\n",
       "      <th>gender</th>\n",
       "      <th>age</th>\n",
       "      <th>hypertension</th>\n",
       "      <th>heart_disease</th>\n",
       "      <th>smoking_history</th>\n",
       "      <th>bmi</th>\n",
       "      <th>HbA1c_level</th>\n",
       "      <th>blood_glucose_level</th>\n",
       "      <th>diabetes</th>\n",
       "    </tr>\n",
       "  </thead>\n",
       "  <tbody>\n",
       "    <tr>\n",
       "      <th>0</th>\n",
       "      <td>Female</td>\n",
       "      <td>80.0</td>\n",
       "      <td>0</td>\n",
       "      <td>1</td>\n",
       "      <td>never</td>\n",
       "      <td>25.19</td>\n",
       "      <td>6.6</td>\n",
       "      <td>140</td>\n",
       "      <td>0</td>\n",
       "    </tr>\n",
       "    <tr>\n",
       "      <th>1</th>\n",
       "      <td>Female</td>\n",
       "      <td>54.0</td>\n",
       "      <td>0</td>\n",
       "      <td>0</td>\n",
       "      <td>No Info</td>\n",
       "      <td>27.32</td>\n",
       "      <td>6.6</td>\n",
       "      <td>80</td>\n",
       "      <td>0</td>\n",
       "    </tr>\n",
       "    <tr>\n",
       "      <th>2</th>\n",
       "      <td>Male</td>\n",
       "      <td>28.0</td>\n",
       "      <td>0</td>\n",
       "      <td>0</td>\n",
       "      <td>never</td>\n",
       "      <td>27.32</td>\n",
       "      <td>5.7</td>\n",
       "      <td>158</td>\n",
       "      <td>0</td>\n",
       "    </tr>\n",
       "    <tr>\n",
       "      <th>3</th>\n",
       "      <td>Female</td>\n",
       "      <td>36.0</td>\n",
       "      <td>0</td>\n",
       "      <td>0</td>\n",
       "      <td>current</td>\n",
       "      <td>23.45</td>\n",
       "      <td>5.0</td>\n",
       "      <td>155</td>\n",
       "      <td>0</td>\n",
       "    </tr>\n",
       "    <tr>\n",
       "      <th>4</th>\n",
       "      <td>Male</td>\n",
       "      <td>76.0</td>\n",
       "      <td>1</td>\n",
       "      <td>1</td>\n",
       "      <td>current</td>\n",
       "      <td>20.14</td>\n",
       "      <td>4.8</td>\n",
       "      <td>155</td>\n",
       "      <td>0</td>\n",
       "    </tr>\n",
       "    <tr>\n",
       "      <th>...</th>\n",
       "      <td>...</td>\n",
       "      <td>...</td>\n",
       "      <td>...</td>\n",
       "      <td>...</td>\n",
       "      <td>...</td>\n",
       "      <td>...</td>\n",
       "      <td>...</td>\n",
       "      <td>...</td>\n",
       "      <td>...</td>\n",
       "    </tr>\n",
       "    <tr>\n",
       "      <th>99995</th>\n",
       "      <td>Female</td>\n",
       "      <td>80.0</td>\n",
       "      <td>0</td>\n",
       "      <td>0</td>\n",
       "      <td>No Info</td>\n",
       "      <td>27.32</td>\n",
       "      <td>6.2</td>\n",
       "      <td>90</td>\n",
       "      <td>0</td>\n",
       "    </tr>\n",
       "    <tr>\n",
       "      <th>99996</th>\n",
       "      <td>Female</td>\n",
       "      <td>2.0</td>\n",
       "      <td>0</td>\n",
       "      <td>0</td>\n",
       "      <td>No Info</td>\n",
       "      <td>17.37</td>\n",
       "      <td>6.5</td>\n",
       "      <td>100</td>\n",
       "      <td>0</td>\n",
       "    </tr>\n",
       "    <tr>\n",
       "      <th>99997</th>\n",
       "      <td>Male</td>\n",
       "      <td>66.0</td>\n",
       "      <td>0</td>\n",
       "      <td>0</td>\n",
       "      <td>former</td>\n",
       "      <td>27.83</td>\n",
       "      <td>5.7</td>\n",
       "      <td>155</td>\n",
       "      <td>0</td>\n",
       "    </tr>\n",
       "    <tr>\n",
       "      <th>99998</th>\n",
       "      <td>Female</td>\n",
       "      <td>24.0</td>\n",
       "      <td>0</td>\n",
       "      <td>0</td>\n",
       "      <td>never</td>\n",
       "      <td>35.42</td>\n",
       "      <td>4.0</td>\n",
       "      <td>100</td>\n",
       "      <td>0</td>\n",
       "    </tr>\n",
       "    <tr>\n",
       "      <th>99999</th>\n",
       "      <td>Female</td>\n",
       "      <td>57.0</td>\n",
       "      <td>0</td>\n",
       "      <td>0</td>\n",
       "      <td>current</td>\n",
       "      <td>22.43</td>\n",
       "      <td>6.6</td>\n",
       "      <td>90</td>\n",
       "      <td>0</td>\n",
       "    </tr>\n",
       "  </tbody>\n",
       "</table>\n",
       "<p>100000 rows × 9 columns</p>\n",
       "</div>"
      ],
      "text/plain": [
       "       gender   age  hypertension  heart_disease smoking_history    bmi   \n",
       "0      Female  80.0             0              1           never  25.19  \\\n",
       "1      Female  54.0             0              0         No Info  27.32   \n",
       "2        Male  28.0             0              0           never  27.32   \n",
       "3      Female  36.0             0              0         current  23.45   \n",
       "4        Male  76.0             1              1         current  20.14   \n",
       "...       ...   ...           ...            ...             ...    ...   \n",
       "99995  Female  80.0             0              0         No Info  27.32   \n",
       "99996  Female   2.0             0              0         No Info  17.37   \n",
       "99997    Male  66.0             0              0          former  27.83   \n",
       "99998  Female  24.0             0              0           never  35.42   \n",
       "99999  Female  57.0             0              0         current  22.43   \n",
       "\n",
       "       HbA1c_level  blood_glucose_level  diabetes  \n",
       "0              6.6                  140         0  \n",
       "1              6.6                   80         0  \n",
       "2              5.7                  158         0  \n",
       "3              5.0                  155         0  \n",
       "4              4.8                  155         0  \n",
       "...            ...                  ...       ...  \n",
       "99995          6.2                   90         0  \n",
       "99996          6.5                  100         0  \n",
       "99997          5.7                  155         0  \n",
       "99998          4.0                  100         0  \n",
       "99999          6.6                   90         0  \n",
       "\n",
       "[100000 rows x 9 columns]"
      ]
     },
     "execution_count": 15,
     "metadata": {},
     "output_type": "execute_result"
    }
   ],
   "source": [
    "df = pd.read_csv('Data/diabetes_prediction_dataset.csv')\n",
    "df"
   ]
  },
  {
   "cell_type": "code",
   "execution_count": 16,
   "id": "e05c4821",
   "metadata": {
    "scrolled": true
   },
   "outputs": [
    {
     "data": {
      "text/plain": [
       "Index(['gender', 'age', 'hypertension', 'heart_disease', 'smoking_history',\n",
       "       'bmi', 'HbA1c_level', 'blood_glucose_level', 'diabetes'],\n",
       "      dtype='object')"
      ]
     },
     "execution_count": 16,
     "metadata": {},
     "output_type": "execute_result"
    }
   ],
   "source": [
    "df.columns"
   ]
  },
  {
   "cell_type": "markdown",
   "id": "4f09af7f",
   "metadata": {},
   "source": [
    "Data Diabetes Prediction Dataset contains 9 columns, each are:\n",
    "\n",
    "    Gender: Indicates the gender of the individual.\n",
    "    Age: Represents the age of the individual in years.\n",
    "    Hypertension: Indicates whether the individual has hypertension (high blood pressure) or not.\n",
    "    Heart Disease: Indicates whether the individual has a history of heart disease or not.\n",
    "    Smoking History: Represents the smoking history of the individual.\n",
    "    BMI: Stands for Body Mass Index, which is a measure of an individual's body fat based on their weight and height.\n",
    "    HbA1c Level: Refers to the measurement of glycated hemoglobin in the blood, which is an indicator of average blood sugar levels over a few months.\n",
    "    Blood Glucose Level: Represents the measurement of glucose (sugar) in the blood.\n",
    "    Diabetes: The target variable that indicates whether the individual has diabetes (1) or does not have diabetes (0)."
   ]
  },
  {
   "cell_type": "markdown",
   "id": "32d82f6a",
   "metadata": {},
   "source": [
    "The size of the dataset is 100000 x 9"
   ]
  },
  {
   "cell_type": "code",
   "execution_count": 17,
   "id": "07bfed52",
   "metadata": {},
   "outputs": [
    {
     "data": {
      "text/plain": [
       "(100000, 9)"
      ]
     },
     "execution_count": 17,
     "metadata": {},
     "output_type": "execute_result"
    }
   ],
   "source": [
    "df.shape"
   ]
  },
  {
   "cell_type": "markdown",
   "id": "181e93ed",
   "metadata": {},
   "source": [
    "The dataset columns are the following types:"
   ]
  },
  {
   "cell_type": "code",
   "execution_count": 18,
   "id": "18359409",
   "metadata": {},
   "outputs": [
    {
     "data": {
      "text/plain": [
       "gender                  object\n",
       "age                    float64\n",
       "hypertension             int64\n",
       "heart_disease            int64\n",
       "smoking_history         object\n",
       "bmi                    float64\n",
       "HbA1c_level            float64\n",
       "blood_glucose_level      int64\n",
       "diabetes                 int64\n",
       "dtype: object"
      ]
     },
     "execution_count": 18,
     "metadata": {},
     "output_type": "execute_result"
    }
   ],
   "source": [
    "df.dtypes"
   ]
  },
  {
   "cell_type": "markdown",
   "id": "51d2af40",
   "metadata": {},
   "source": [
    "## Data Cleaning\n",
    "\n",
    "The next step I plan to take is to look at different columns and identify any possible inconsistencies."
   ]
  },
  {
   "cell_type": "code",
   "execution_count": 19,
   "id": "8337f886",
   "metadata": {},
   "outputs": [
    {
     "data": {
      "text/plain": [
       "array(['Female', 'Male', 'Other'], dtype=object)"
      ]
     },
     "execution_count": 19,
     "metadata": {},
     "output_type": "execute_result"
    }
   ],
   "source": [
    "genders = df['gender'].unique()\n",
    "genders"
   ]
  },
  {
   "cell_type": "code",
   "execution_count": 20,
   "id": "a1e6d927",
   "metadata": {
    "scrolled": true
   },
   "outputs": [
    {
     "data": {
      "text/plain": [
       "array([ 0.08,  0.16,  0.24,  0.32,  0.4 ,  0.48,  0.56,  0.64,  0.72,\n",
       "        0.8 ,  0.88,  1.  ,  1.08,  1.16,  1.24,  1.32,  1.4 ,  1.48,\n",
       "        1.56,  1.64,  1.72,  1.8 ,  1.88,  2.  ,  3.  ,  4.  ,  5.  ,\n",
       "        6.  ,  7.  ,  8.  ,  9.  , 10.  , 11.  , 12.  , 13.  , 14.  ,\n",
       "       15.  , 16.  , 17.  , 18.  , 19.  , 20.  , 21.  , 22.  , 23.  ,\n",
       "       24.  , 25.  , 26.  , 27.  , 28.  , 29.  , 30.  , 31.  , 32.  ,\n",
       "       33.  , 34.  , 35.  , 36.  , 37.  , 38.  , 39.  , 40.  , 41.  ,\n",
       "       42.  , 43.  , 44.  , 45.  , 46.  , 47.  , 48.  , 49.  , 50.  ,\n",
       "       51.  , 52.  , 53.  , 54.  , 55.  , 56.  , 57.  , 58.  , 59.  ,\n",
       "       60.  , 61.  , 62.  , 63.  , 64.  , 65.  , 66.  , 67.  , 68.  ,\n",
       "       69.  , 70.  , 71.  , 72.  , 73.  , 74.  , 75.  , 76.  , 77.  ,\n",
       "       78.  , 79.  , 80.  ])"
      ]
     },
     "execution_count": 20,
     "metadata": {},
     "output_type": "execute_result"
    }
   ],
   "source": [
    "ages = df['age'].unique()\n",
    "ages.sort()\n",
    "ages"
   ]
  },
  {
   "cell_type": "markdown",
   "id": "46256e4c",
   "metadata": {},
   "source": [
    "By looking at different unique age values I can see some inconsistent data entires therefore I'm going to either round the float number or just remove the entry."
   ]
  },
  {
   "cell_type": "code",
   "execution_count": 21,
   "id": "7f38de51",
   "metadata": {},
   "outputs": [],
   "source": [
    "df['age'] = np.round(df['age'])\n",
    "df = df[df['age'] != 0]"
   ]
  },
  {
   "cell_type": "code",
   "execution_count": 22,
   "id": "29cb98b8",
   "metadata": {},
   "outputs": [
    {
     "data": {
      "text/plain": [
       "array([ 1.,  2.,  3.,  4.,  5.,  6.,  7.,  8.,  9., 10., 11., 12., 13.,\n",
       "       14., 15., 16., 17., 18., 19., 20., 21., 22., 23., 24., 25., 26.,\n",
       "       27., 28., 29., 30., 31., 32., 33., 34., 35., 36., 37., 38., 39.,\n",
       "       40., 41., 42., 43., 44., 45., 46., 47., 48., 49., 50., 51., 52.,\n",
       "       53., 54., 55., 56., 57., 58., 59., 60., 61., 62., 63., 64., 65.,\n",
       "       66., 67., 68., 69., 70., 71., 72., 73., 74., 75., 76., 77., 78.,\n",
       "       79., 80.])"
      ]
     },
     "execution_count": 22,
     "metadata": {},
     "output_type": "execute_result"
    }
   ],
   "source": [
    "ages = df['age'].unique()\n",
    "ages.sort()\n",
    "ages"
   ]
  },
  {
   "cell_type": "code",
   "execution_count": 23,
   "id": "b39643b0",
   "metadata": {},
   "outputs": [
    {
     "data": {
      "text/plain": [
       "array([0, 1])"
      ]
     },
     "execution_count": 23,
     "metadata": {},
     "output_type": "execute_result"
    }
   ],
   "source": [
    "hypertension = df['hypertension'].unique()\n",
    "hypertension"
   ]
  },
  {
   "cell_type": "code",
   "execution_count": 24,
   "id": "d08c7966",
   "metadata": {},
   "outputs": [
    {
     "data": {
      "text/plain": [
       "array([1, 0])"
      ]
     },
     "execution_count": 24,
     "metadata": {},
     "output_type": "execute_result"
    }
   ],
   "source": [
    "heart_disease = df['heart_disease'].unique()\n",
    "heart_disease"
   ]
  },
  {
   "cell_type": "code",
   "execution_count": 25,
   "id": "851eeb8e",
   "metadata": {},
   "outputs": [
    {
     "data": {
      "text/plain": [
       "array(['never', 'No Info', 'current', 'former', 'ever', 'not current'],\n",
       "      dtype=object)"
      ]
     },
     "execution_count": 25,
     "metadata": {},
     "output_type": "execute_result"
    }
   ],
   "source": [
    "smoking_history = df['smoking_history'].unique()\n",
    "smoking_history"
   ]
  },
  {
   "cell_type": "markdown",
   "id": "86b4c27c",
   "metadata": {},
   "source": [
    "I am going to rename some of the column values for better understanding and consistency."
   ]
  },
  {
   "cell_type": "code",
   "execution_count": 26,
   "id": "70cff3d1",
   "metadata": {},
   "outputs": [],
   "source": [
    "df['smoking_history'] = df['smoking_history'].replace('never','Never')\n",
    "df['smoking_history'] = df['smoking_history'].replace('current','Current')\n",
    "df['smoking_history'] = df['smoking_history'].replace('former','Former')\n",
    "df['smoking_history'] = df['smoking_history'].replace('ever','Ever')\n",
    "df['smoking_history'] = df['smoking_history'].replace('not current','Not current')"
   ]
  },
  {
   "cell_type": "code",
   "execution_count": 27,
   "id": "66e5e65a",
   "metadata": {},
   "outputs": [
    {
     "data": {
      "text/plain": [
       "array([25.19, 27.32, 23.45, ..., 59.42, 44.39, 60.52])"
      ]
     },
     "execution_count": 27,
     "metadata": {},
     "output_type": "execute_result"
    }
   ],
   "source": [
    "bmi = df['bmi'].unique()\n",
    "bmi"
   ]
  },
  {
   "cell_type": "code",
   "execution_count": 28,
   "id": "f3541212",
   "metadata": {},
   "outputs": [
    {
     "data": {
      "text/plain": [
       "array([6.6, 5.7, 5. , 4.8, 6.5, 6.1, 6. , 5.8, 3.5, 6.2, 4. , 4.5, 9. ,\n",
       "       7. , 8.8, 8.2, 7.5, 6.8])"
      ]
     },
     "execution_count": 28,
     "metadata": {},
     "output_type": "execute_result"
    }
   ],
   "source": [
    "HbA1c_level = df['HbA1c_level'].unique()\n",
    "HbA1c_level"
   ]
  },
  {
   "cell_type": "code",
   "execution_count": 29,
   "id": "b216bc7c",
   "metadata": {},
   "outputs": [
    {
     "data": {
      "text/plain": [
       "array([140,  80, 158, 155,  85, 200, 145, 100, 130, 160, 126, 159,  90,\n",
       "       260, 220, 300, 280, 240])"
      ]
     },
     "execution_count": 29,
     "metadata": {},
     "output_type": "execute_result"
    }
   ],
   "source": [
    "blood_glucose_level = df['blood_glucose_level'].unique()\n",
    "blood_glucose_level"
   ]
  },
  {
   "cell_type": "code",
   "execution_count": 30,
   "id": "2e3ae9d0",
   "metadata": {},
   "outputs": [
    {
     "data": {
      "text/plain": [
       "array([0, 1])"
      ]
     },
     "execution_count": 30,
     "metadata": {},
     "output_type": "execute_result"
    }
   ],
   "source": [
    "diabetes = df['diabetes'].unique()\n",
    "diabetes"
   ]
  },
  {
   "cell_type": "markdown",
   "id": "813951d6",
   "metadata": {},
   "source": [
    "I have checked for null values, and it appears that there are no null values in this dataset."
   ]
  },
  {
   "cell_type": "code",
   "execution_count": 31,
   "id": "35bc676e",
   "metadata": {},
   "outputs": [
    {
     "data": {
      "text/plain": [
       "gender                 0\n",
       "age                    0\n",
       "hypertension           0\n",
       "heart_disease          0\n",
       "smoking_history        0\n",
       "bmi                    0\n",
       "HbA1c_level            0\n",
       "blood_glucose_level    0\n",
       "diabetes               0\n",
       "dtype: int64"
      ]
     },
     "execution_count": 31,
     "metadata": {},
     "output_type": "execute_result"
    }
   ],
   "source": [
    "df.isnull().sum()"
   ]
  },
  {
   "cell_type": "code",
   "execution_count": 32,
   "id": "31fe9abd",
   "metadata": {
    "scrolled": false
   },
   "outputs": [
    {
     "data": {
      "text/html": [
       "<div>\n",
       "<style scoped>\n",
       "    .dataframe tbody tr th:only-of-type {\n",
       "        vertical-align: middle;\n",
       "    }\n",
       "\n",
       "    .dataframe tbody tr th {\n",
       "        vertical-align: top;\n",
       "    }\n",
       "\n",
       "    .dataframe thead th {\n",
       "        text-align: right;\n",
       "    }\n",
       "</style>\n",
       "<table border=\"1\" class=\"dataframe\">\n",
       "  <thead>\n",
       "    <tr style=\"text-align: right;\">\n",
       "      <th></th>\n",
       "      <th>gender</th>\n",
       "      <th>age</th>\n",
       "      <th>hypertension</th>\n",
       "      <th>heart_disease</th>\n",
       "      <th>smoking_history</th>\n",
       "      <th>bmi</th>\n",
       "      <th>HbA1c_level</th>\n",
       "      <th>blood_glucose_level</th>\n",
       "      <th>diabetes</th>\n",
       "    </tr>\n",
       "  </thead>\n",
       "  <tbody>\n",
       "    <tr>\n",
       "      <th>0</th>\n",
       "      <td>Female</td>\n",
       "      <td>80.0</td>\n",
       "      <td>0</td>\n",
       "      <td>1</td>\n",
       "      <td>Never</td>\n",
       "      <td>25.19</td>\n",
       "      <td>6.6</td>\n",
       "      <td>140</td>\n",
       "      <td>0</td>\n",
       "    </tr>\n",
       "    <tr>\n",
       "      <th>1</th>\n",
       "      <td>Female</td>\n",
       "      <td>54.0</td>\n",
       "      <td>0</td>\n",
       "      <td>0</td>\n",
       "      <td>No Info</td>\n",
       "      <td>27.32</td>\n",
       "      <td>6.6</td>\n",
       "      <td>80</td>\n",
       "      <td>0</td>\n",
       "    </tr>\n",
       "    <tr>\n",
       "      <th>2</th>\n",
       "      <td>Male</td>\n",
       "      <td>28.0</td>\n",
       "      <td>0</td>\n",
       "      <td>0</td>\n",
       "      <td>Never</td>\n",
       "      <td>27.32</td>\n",
       "      <td>5.7</td>\n",
       "      <td>158</td>\n",
       "      <td>0</td>\n",
       "    </tr>\n",
       "    <tr>\n",
       "      <th>3</th>\n",
       "      <td>Female</td>\n",
       "      <td>36.0</td>\n",
       "      <td>0</td>\n",
       "      <td>0</td>\n",
       "      <td>Current</td>\n",
       "      <td>23.45</td>\n",
       "      <td>5.0</td>\n",
       "      <td>155</td>\n",
       "      <td>0</td>\n",
       "    </tr>\n",
       "    <tr>\n",
       "      <th>4</th>\n",
       "      <td>Male</td>\n",
       "      <td>76.0</td>\n",
       "      <td>1</td>\n",
       "      <td>1</td>\n",
       "      <td>Current</td>\n",
       "      <td>20.14</td>\n",
       "      <td>4.8</td>\n",
       "      <td>155</td>\n",
       "      <td>0</td>\n",
       "    </tr>\n",
       "    <tr>\n",
       "      <th>...</th>\n",
       "      <td>...</td>\n",
       "      <td>...</td>\n",
       "      <td>...</td>\n",
       "      <td>...</td>\n",
       "      <td>...</td>\n",
       "      <td>...</td>\n",
       "      <td>...</td>\n",
       "      <td>...</td>\n",
       "      <td>...</td>\n",
       "    </tr>\n",
       "    <tr>\n",
       "      <th>99994</th>\n",
       "      <td>Female</td>\n",
       "      <td>36.0</td>\n",
       "      <td>0</td>\n",
       "      <td>0</td>\n",
       "      <td>No Info</td>\n",
       "      <td>24.60</td>\n",
       "      <td>4.8</td>\n",
       "      <td>145</td>\n",
       "      <td>0</td>\n",
       "    </tr>\n",
       "    <tr>\n",
       "      <th>99996</th>\n",
       "      <td>Female</td>\n",
       "      <td>2.0</td>\n",
       "      <td>0</td>\n",
       "      <td>0</td>\n",
       "      <td>No Info</td>\n",
       "      <td>17.37</td>\n",
       "      <td>6.5</td>\n",
       "      <td>100</td>\n",
       "      <td>0</td>\n",
       "    </tr>\n",
       "    <tr>\n",
       "      <th>99997</th>\n",
       "      <td>Male</td>\n",
       "      <td>66.0</td>\n",
       "      <td>0</td>\n",
       "      <td>0</td>\n",
       "      <td>Former</td>\n",
       "      <td>27.83</td>\n",
       "      <td>5.7</td>\n",
       "      <td>155</td>\n",
       "      <td>0</td>\n",
       "    </tr>\n",
       "    <tr>\n",
       "      <th>99998</th>\n",
       "      <td>Female</td>\n",
       "      <td>24.0</td>\n",
       "      <td>0</td>\n",
       "      <td>0</td>\n",
       "      <td>Never</td>\n",
       "      <td>35.42</td>\n",
       "      <td>4.0</td>\n",
       "      <td>100</td>\n",
       "      <td>0</td>\n",
       "    </tr>\n",
       "    <tr>\n",
       "      <th>99999</th>\n",
       "      <td>Female</td>\n",
       "      <td>57.0</td>\n",
       "      <td>0</td>\n",
       "      <td>0</td>\n",
       "      <td>Current</td>\n",
       "      <td>22.43</td>\n",
       "      <td>6.6</td>\n",
       "      <td>90</td>\n",
       "      <td>0</td>\n",
       "    </tr>\n",
       "  </tbody>\n",
       "</table>\n",
       "<p>95676 rows × 9 columns</p>\n",
       "</div>"
      ],
      "text/plain": [
       "       gender   age  hypertension  heart_disease smoking_history    bmi   \n",
       "0      Female  80.0             0              1           Never  25.19  \\\n",
       "1      Female  54.0             0              0         No Info  27.32   \n",
       "2        Male  28.0             0              0           Never  27.32   \n",
       "3      Female  36.0             0              0         Current  23.45   \n",
       "4        Male  76.0             1              1         Current  20.14   \n",
       "...       ...   ...           ...            ...             ...    ...   \n",
       "99994  Female  36.0             0              0         No Info  24.60   \n",
       "99996  Female   2.0             0              0         No Info  17.37   \n",
       "99997    Male  66.0             0              0          Former  27.83   \n",
       "99998  Female  24.0             0              0           Never  35.42   \n",
       "99999  Female  57.0             0              0         Current  22.43   \n",
       "\n",
       "       HbA1c_level  blood_glucose_level  diabetes  \n",
       "0              6.6                  140         0  \n",
       "1              6.6                   80         0  \n",
       "2              5.7                  158         0  \n",
       "3              5.0                  155         0  \n",
       "4              4.8                  155         0  \n",
       "...            ...                  ...       ...  \n",
       "99994          4.8                  145         0  \n",
       "99996          6.5                  100         0  \n",
       "99997          5.7                  155         0  \n",
       "99998          4.0                  100         0  \n",
       "99999          6.6                   90         0  \n",
       "\n",
       "[95676 rows x 9 columns]"
      ]
     },
     "execution_count": 32,
     "metadata": {},
     "output_type": "execute_result"
    }
   ],
   "source": [
    "df.drop_duplicates(inplace=True)\n",
    "df"
   ]
  },
  {
   "cell_type": "code",
   "execution_count": 33,
   "id": "706c2dfe",
   "metadata": {},
   "outputs": [
    {
     "data": {
      "text/plain": [
       "(95676, 9)"
      ]
     },
     "execution_count": 33,
     "metadata": {},
     "output_type": "execute_result"
    }
   ],
   "source": [
    "df.shape"
   ]
  },
  {
   "cell_type": "markdown",
   "id": "f1894097",
   "metadata": {},
   "source": [
    "## Data Exploration\n",
    "\n",
    "This is where I will try to analyze the data and find interesting facts. I'm going to see what is the average salary for each categorical feature that I plot. In order to choose what plot is most suitable for visualization I made use of a [webiste](https://www.data-to-viz.com/) that helps you in finding the best plot for your data. I have decided to use barplots in multiple instances because I want to maintain consistency throughout the document."
   ]
  },
  {
   "cell_type": "code",
   "execution_count": 34,
   "id": "dff6ea6d",
   "metadata": {},
   "outputs": [
    {
     "data": {
      "text/plain": [
       "gender\n",
       "Female    55930\n",
       "Male      39728\n",
       "Other        18\n",
       "Name: count, dtype: int64"
      ]
     },
     "execution_count": 34,
     "metadata": {},
     "output_type": "execute_result"
    }
   ],
   "source": [
    "df['gender'].value_counts()"
   ]
  },
  {
   "cell_type": "markdown",
   "id": "e47b00af",
   "metadata": {},
   "source": [
    "What are the percentages of gender in this dataset?"
   ]
  },
  {
   "cell_type": "code",
   "execution_count": 35,
   "id": "c3207d4f",
   "metadata": {},
   "outputs": [
    {
     "data": {
      "image/png": "[encoded data removed]",
      "text/plain": [
       "<Figure size 432x432 with 1 Axes>"
      ]
     },
     "metadata": {},
     "output_type": "display_data"
    }
   ],
   "source": [
    "gender_counts = df['gender'].value_counts()\n",
    "total_count = len(df)\n",
    "\n",
    "gender_percentage = (gender_counts / total_count) * 100\n",
    "\n",
    "plt.figure(figsize=(6, 6))\n",
    "plt.pie(gender_percentage, labels=gender_percentage.index, autopct='%1.1f%%')\n",
    "plt.title('Percentage of Genders')\n",
    "plt.axis('equal')\n",
    "plt.show()"
   ]
  },
  {
   "cell_type": "markdown",
   "id": "befa2719",
   "metadata": {},
   "source": [
    "What is the percentage of diabetes in the dataset?"
   ]
  },
  {
   "cell_type": "code",
   "execution_count": 36,
   "id": "c780a1bc",
   "metadata": {},
   "outputs": [
    {
     "data": {
      "image/png": "[encoded data removed]",
      "text/plain": [
       "<Figure size 432x432 with 1 Axes>"
      ]
     },
     "metadata": {},
     "output_type": "display_data"
    }
   ],
   "source": [
    "diabetes_counts = df['diabetes'].value_counts()\n",
    "total_count = len(df)\n",
    "\n",
    "diabetes_percentage = (diabetes_counts / total_count) * 100\n",
    "\n",
    "plt.figure(figsize=(6, 6))\n",
    "plt.pie(diabetes_percentage, labels=diabetes_percentage.index, autopct='%1.1f%%')\n",
    "plt.title('Percentage of Diabetes')\n",
    "plt.axis('equal')\n",
    "plt.show()"
   ]
  },
  {
   "cell_type": "markdown",
   "id": "3d6c2cad",
   "metadata": {},
   "source": [
    "By looking at the piechart above I get the ideea that this dataset is unbalanced."
   ]
  },
  {
   "cell_type": "markdown",
   "id": "dc67e8ce",
   "metadata": {},
   "source": [
    "**Diabetes vs Gender**"
   ]
  },
  {
   "cell_type": "code",
   "execution_count": 37,
   "id": "cff42206",
   "metadata": {},
   "outputs": [
    {
     "data": {
      "image/png": "[encoded data removed]",
      "text/plain": [
       "<Figure size 576x432 with 1 Axes>"
      ]
     },
     "metadata": {
      "needs_background": "light"
     },
     "output_type": "display_data"
    }
   ],
   "source": [
    "female_diabetes_count = df[df['gender'] == 'Female']['diabetes'].value_counts().loc[1]\n",
    "male_diabetes_count = df[df['gender'] == 'Male']['diabetes'].value_counts().loc[1]\n",
    "plt.figure(figsize=(8, 6))\n",
    "plt.bar(['Female', 'Male'], [female_diabetes_count, male_diabetes_count])\n",
    "plt.xlabel('Gender')\n",
    "plt.ylabel('Count')\n",
    "plt.title('Number of Females and Males with Diabetes')\n",
    "\n",
    "plt.show()"
   ]
  },
  {
   "cell_type": "code",
   "execution_count": 38,
   "id": "b8bb45b7",
   "metadata": {},
   "outputs": [
    {
     "data": {
      "image/png": "[encoded data removed]",
      "text/plain": [
       "<Figure size 432x576 with 1 Axes>"
      ]
     },
     "metadata": {
      "needs_background": "light"
     },
     "output_type": "display_data"
    }
   ],
   "source": [
    "plt.figure(figsize=(6, 8))\n",
    "sns.violinplot(y=df['age'])\n",
    "\n",
    "plt.xlabel('Age')\n",
    "plt.ylabel('Value')\n",
    "plt.title('Age Distribution')\n",
    "\n",
    "plt.show()"
   ]
  },
  {
   "cell_type": "markdown",
   "id": "2cabeccc",
   "metadata": {},
   "source": [
    "**Diabetes vs Age**"
   ]
  },
  {
   "cell_type": "code",
   "execution_count": 39,
   "id": "209d1aba",
   "metadata": {},
   "outputs": [
    {
     "data": {
      "image/png": "[encoded data removed]",
      "text/plain": [
       "<Figure size 576x432 with 1 Axes>"
      ]
     },
     "metadata": {
      "needs_background": "light"
     },
     "output_type": "display_data"
    }
   ],
   "source": [
    "diabetes_count = df.groupby('age')['diabetes'].sum()\n",
    "plt.figure(figsize=(8, 6))\n",
    "plt.bar(diabetes_count.index, diabetes_count.values)\n",
    "plt.xlabel('Age')\n",
    "plt.ylabel('Diabetes Count')\n",
    "plt.title('Diabetes Cases per Age Group')\n",
    "plt.show()"
   ]
  },
  {
   "cell_type": "markdown",
   "id": "a9d6785d",
   "metadata": {},
   "source": [
    "**Diabetes vs Hypertension**"
   ]
  },
  {
   "cell_type": "code",
   "execution_count": 40,
   "id": "50209c69",
   "metadata": {},
   "outputs": [
    {
     "data": {
      "image/png": "[encoded data removed]",
      "text/plain": [
       "<Figure size 576x432 with 1 Axes>"
      ]
     },
     "metadata": {
      "needs_background": "light"
     },
     "output_type": "display_data"
    }
   ],
   "source": [
    "diabetes_count = df.groupby('hypertension')['diabetes'].sum()\n",
    "plt.figure(figsize=(8, 6))\n",
    "plt.bar(diabetes_count.index, diabetes_count.values)\n",
    "plt.xlabel('Hypertension')\n",
    "plt.ylabel('Diabetes Count')\n",
    "plt.title('Diabetes Cases per Hypertension Level')\n",
    "plt.show()"
   ]
  },
  {
   "cell_type": "markdown",
   "id": "bb9366ef",
   "metadata": {},
   "source": [
    "**Diabetes vs Heart Disease**"
   ]
  },
  {
   "cell_type": "code",
   "execution_count": 41,
   "id": "528cb8b8",
   "metadata": {},
   "outputs": [
    {
     "data": {
      "image/png": "[encoded data removed]",
      "text/plain": [
       "<Figure size 576x432 with 1 Axes>"
      ]
     },
     "metadata": {
      "needs_background": "light"
     },
     "output_type": "display_data"
    }
   ],
   "source": [
    "diabetes_count = df.groupby('heart_disease')['diabetes'].sum()\n",
    "plt.figure(figsize=(8, 6))\n",
    "plt.bar(diabetes_count.index, diabetes_count.values)\n",
    "plt.xlabel('Heart Disease')\n",
    "plt.ylabel('Diabetes Count')\n",
    "plt.title('Diabetes Cases per Heart Disease Level')\n",
    "plt.show()"
   ]
  },
  {
   "cell_type": "markdown",
   "id": "37ecb5e0",
   "metadata": {},
   "source": [
    "**Does a heart disease increases the chance of having diabetes?**\n",
    "\n",
    "Looking at the plot it seems like that people with no hear disease have diabetes in general but is this really true?\n",
    "To answer the question we have to find out what is the percentage of humans who have heart disease also have diabetes and also the percentage of humans who **don't** have heart disease have diabetes."
   ]
  },
  {
   "cell_type": "code",
   "execution_count": 42,
   "id": "c25dff32",
   "metadata": {},
   "outputs": [
    {
     "name": "stdout",
     "output_type": "stream",
     "text": [
      "Number of people with heart disease: 3923\n",
      "Percentage of people with heart disease and with diabetes: 32.296711700229416\n",
      "Number of people without heart disease: 91753\n",
      "Percentage of people without heart disease but with diabetes: 7.863503100716053\n"
     ]
    }
   ],
   "source": [
    "# People without/with heart disease\n",
    "subset_no_heart_disease = df[df['heart_disease'] == 0]\n",
    "subset_heart_disease = df[df['heart_disease'] == 1]\n",
    "\n",
    "#People without/with heart disease who have diabetes\n",
    "num_diabetes_no_heart_disease = len(subset_no_heart_disease[subset_no_heart_disease['diabetes'] == 1])\n",
    "num_diabetes_heart_disease = len(subset_heart_disease[subset_heart_disease['diabetes'] == 1])\n",
    "\n",
    "#Count people whitout/with heart disease\n",
    "total_no_heart_disease = len(subset_no_heart_disease)\n",
    "total_heart_disease = len(subset_heart_disease)\n",
    "\n",
    "#Percentage of people with diabetes among those without/with heart disease\n",
    "percentage_diabetes_no_heart_disease = (num_diabetes_no_heart_disease / total_no_heart_disease) * 100\n",
    "percentage_diabetes_heart_disease = (num_diabetes_heart_disease / total_heart_disease) * 100\n",
    "\n",
    "print(\"Number of people with heart disease:\", total_heart_disease)\n",
    "print(\"Percentage of people with heart disease and with diabetes:\", percentage_diabetes_heart_disease)\n",
    "print(\"Number of people without heart disease:\", total_no_heart_disease)\n",
    "print(\"Percentage of people without heart disease but with diabetes:\", percentage_diabetes_no_heart_disease)\n"
   ]
  },
  {
   "cell_type": "markdown",
   "id": "9e4fd44f",
   "metadata": {},
   "source": [
    "Now we can see that 32% of the people with heart disease have diabetes compared to 7% of the people without heart disease."
   ]
  },
  {
   "cell_type": "markdown",
   "id": "6895348c",
   "metadata": {},
   "source": [
    "**Gender vs Heart Disease**"
   ]
  },
  {
   "cell_type": "code",
   "execution_count": 43,
   "id": "c70bf3a0",
   "metadata": {},
   "outputs": [
    {
     "data": {
      "image/png": "[encoded data removed]",
      "text/plain": [
       "<Figure size 576x432 with 1 Axes>"
      ]
     },
     "metadata": {
      "needs_background": "light"
     },
     "output_type": "display_data"
    }
   ],
   "source": [
    "plt.figure(figsize=(8, 6))\n",
    "sns.countplot(x='gender', hue='heart_disease', data=df)\n",
    "plt.xlabel('Gender')\n",
    "plt.ylabel('Count')\n",
    "plt.title('Heart Disease Distribution by Gender')\n",
    "plt.show()"
   ]
  },
  {
   "cell_type": "markdown",
   "id": "8fbf295b",
   "metadata": {},
   "source": [
    "**Gender vs Hypertension**"
   ]
  },
  {
   "cell_type": "code",
   "execution_count": 44,
   "id": "587f7658",
   "metadata": {},
   "outputs": [
    {
     "data": {
      "image/png": "[encoded data removed]",
      "text/plain": [
       "<Figure size 576x432 with 1 Axes>"
      ]
     },
     "metadata": {
      "needs_background": "light"
     },
     "output_type": "display_data"
    }
   ],
   "source": [
    "plt.figure(figsize=(8, 6))\n",
    "sns.countplot(x='gender', hue='hypertension', data=df)\n",
    "plt.xlabel('Gender')\n",
    "plt.ylabel('Count')\n",
    "plt.title('Hypertension Distribution by Gender')\n",
    "plt.show()"
   ]
  },
  {
   "cell_type": "markdown",
   "id": "17c06016",
   "metadata": {},
   "source": [
    "**Diabetes vs Smoking History**"
   ]
  },
  {
   "cell_type": "code",
   "execution_count": 45,
   "id": "360f3034",
   "metadata": {},
   "outputs": [
    {
     "data": {
      "text/plain": [
       "smoking_history\n",
       "Never          34381\n",
       "No Info        32440\n",
       "Former          9299\n",
       "Current         9196\n",
       "Not current     6362\n",
       "Ever            3998\n",
       "Name: count, dtype: int64"
      ]
     },
     "execution_count": 45,
     "metadata": {},
     "output_type": "execute_result"
    }
   ],
   "source": [
    "df['smoking_history'].value_counts()"
   ]
  },
  {
   "cell_type": "code",
   "execution_count": 46,
   "id": "8156b0b0",
   "metadata": {},
   "outputs": [
    {
     "data": {
      "image/png": "[encoded data removed]",
      "text/plain": [
       "<Figure size 576x432 with 1 Axes>"
      ]
     },
     "metadata": {
      "needs_background": "light"
     },
     "output_type": "display_data"
    }
   ],
   "source": [
    "plt.figure(figsize=(8, 6))\n",
    "sns.countplot(x='smoking_history', hue='diabetes', data=df)\n",
    "plt.xlabel('Smoking History')\n",
    "plt.ylabel('Count')\n",
    "plt.title('Diabetes Distribution by Smoking History')\n",
    "plt.show()"
   ]
  },
  {
   "cell_type": "markdown",
   "id": "92e57596",
   "metadata": {},
   "source": [
    "**Diabetes vs BMI**"
   ]
  },
  {
   "cell_type": "code",
   "execution_count": 47,
   "id": "a05f7a57",
   "metadata": {},
   "outputs": [
    {
     "data": {
      "image/png": "[encoded data removed]",
      "text/plain": [
       "<Figure size 576x432 with 1 Axes>"
      ]
     },
     "metadata": {
      "needs_background": "light"
     },
     "output_type": "display_data"
    }
   ],
   "source": [
    "plt.figure(figsize=(8, 6))\n",
    "sns.boxplot(x='diabetes', y='bmi', data=df)\n",
    "plt.xlabel('Diabetes')\n",
    "plt.ylabel('BMI')\n",
    "plt.title('Diabetes Distribution by BMI')\n",
    "plt.show()"
   ]
  },
  {
   "cell_type": "markdown",
   "id": "ead433be",
   "metadata": {},
   "source": [
    "**Diabetes vs HbA1c_level**"
   ]
  },
  {
   "cell_type": "code",
   "execution_count": 48,
   "id": "6d39bdbe",
   "metadata": {},
   "outputs": [
    {
     "data": {
      "image/png": "[encoded data removed]",
      "text/plain": [
       "<Figure size 576x432 with 1 Axes>"
      ]
     },
     "metadata": {
      "needs_background": "light"
     },
     "output_type": "display_data"
    }
   ],
   "source": [
    "diabetes_count = df.groupby('HbA1c_level')['diabetes'].sum()\n",
    "plt.figure(figsize=(8, 6))\n",
    "plt.bar(diabetes_count.index, diabetes_count.values)\n",
    "plt.xlabel('HbA1c Level')\n",
    "plt.ylabel('Diabetes Count')\n",
    "plt.title('Diabetes Cases per HbA1c Level')\n",
    "plt.show()"
   ]
  },
  {
   "cell_type": "markdown",
   "id": "4bc03582",
   "metadata": {},
   "source": [
    "**Diabetes vs glucose_blood_level**"
   ]
  },
  {
   "cell_type": "code",
   "execution_count": 49,
   "id": "a0ccf196",
   "metadata": {},
   "outputs": [
    {
     "data": {
      "image/png": "[encoded data removed]",
      "text/plain": [
       "<Figure size 576x432 with 1 Axes>"
      ]
     },
     "metadata": {
      "needs_background": "light"
     },
     "output_type": "display_data"
    }
   ],
   "source": [
    "plt.figure(figsize=(8, 6))\n",
    "sns.violinplot(x='diabetes', y='blood_glucose_level', data=df)\n",
    "plt.xlabel('Diabetes')\n",
    "plt.ylabel('Blood Glucose Level')\n",
    "plt.title('Diabetes Cases per Blood Glucose Level')\n",
    "plt.show()"
   ]
  },
  {
   "cell_type": "code",
   "execution_count": 50,
   "id": "e1108776",
   "metadata": {},
   "outputs": [
    {
     "data": {
      "image/png": "[encoded data removed]",
      "text/plain": [
       "<Figure size 720x576 with 2 Axes>"
      ]
     },
     "metadata": {
      "needs_background": "light"
     },
     "output_type": "display_data"
    }
   ],
   "source": [
    "numerical_cols = ['age', 'bmi', 'HbA1c_level', 'blood_glucose_level', 'hypertension', 'heart_disease', 'diabetes']\n",
    "df_numerical = df[numerical_cols]\n",
    "corr_matrix = df_numerical.corr()\n",
    "plt.figure(figsize=(10, 8))\n",
    "sns.heatmap(corr_matrix, annot=True, cmap='Blues')\n",
    "plt.show()"
   ]
  },
  {
   "cell_type": "markdown",
   "id": "8068cb36",
   "metadata": {},
   "source": [
    "## Data Preprocessing\n",
    "\n",
    "Before I'm going to modify the data for the model, I'm going to make a copy that we can use for data exploration."
   ]
  },
  {
   "cell_type": "code",
   "execution_count": 51,
   "id": "59abc800",
   "metadata": {
    "scrolled": true
   },
   "outputs": [
    {
     "data": {
      "text/html": [
       "<div>\n",
       "<style scoped>\n",
       "    .dataframe tbody tr th:only-of-type {\n",
       "        vertical-align: middle;\n",
       "    }\n",
       "\n",
       "    .dataframe tbody tr th {\n",
       "        vertical-align: top;\n",
       "    }\n",
       "\n",
       "    .dataframe thead th {\n",
       "        text-align: right;\n",
       "    }\n",
       "</style>\n",
       "<table border=\"1\" class=\"dataframe\">\n",
       "  <thead>\n",
       "    <tr style=\"text-align: right;\">\n",
       "      <th></th>\n",
       "      <th>gender</th>\n",
       "      <th>age</th>\n",
       "      <th>hypertension</th>\n",
       "      <th>heart_disease</th>\n",
       "      <th>smoking_history</th>\n",
       "      <th>bmi</th>\n",
       "      <th>HbA1c_level</th>\n",
       "      <th>blood_glucose_level</th>\n",
       "      <th>diabetes</th>\n",
       "    </tr>\n",
       "  </thead>\n",
       "  <tbody>\n",
       "    <tr>\n",
       "      <th>0</th>\n",
       "      <td>Female</td>\n",
       "      <td>80.0</td>\n",
       "      <td>0</td>\n",
       "      <td>1</td>\n",
       "      <td>Never</td>\n",
       "      <td>25.19</td>\n",
       "      <td>6.6</td>\n",
       "      <td>140</td>\n",
       "      <td>0</td>\n",
       "    </tr>\n",
       "    <tr>\n",
       "      <th>1</th>\n",
       "      <td>Female</td>\n",
       "      <td>54.0</td>\n",
       "      <td>0</td>\n",
       "      <td>0</td>\n",
       "      <td>No Info</td>\n",
       "      <td>27.32</td>\n",
       "      <td>6.6</td>\n",
       "      <td>80</td>\n",
       "      <td>0</td>\n",
       "    </tr>\n",
       "    <tr>\n",
       "      <th>2</th>\n",
       "      <td>Male</td>\n",
       "      <td>28.0</td>\n",
       "      <td>0</td>\n",
       "      <td>0</td>\n",
       "      <td>Never</td>\n",
       "      <td>27.32</td>\n",
       "      <td>5.7</td>\n",
       "      <td>158</td>\n",
       "      <td>0</td>\n",
       "    </tr>\n",
       "    <tr>\n",
       "      <th>3</th>\n",
       "      <td>Female</td>\n",
       "      <td>36.0</td>\n",
       "      <td>0</td>\n",
       "      <td>0</td>\n",
       "      <td>Current</td>\n",
       "      <td>23.45</td>\n",
       "      <td>5.0</td>\n",
       "      <td>155</td>\n",
       "      <td>0</td>\n",
       "    </tr>\n",
       "    <tr>\n",
       "      <th>4</th>\n",
       "      <td>Male</td>\n",
       "      <td>76.0</td>\n",
       "      <td>1</td>\n",
       "      <td>1</td>\n",
       "      <td>Current</td>\n",
       "      <td>20.14</td>\n",
       "      <td>4.8</td>\n",
       "      <td>155</td>\n",
       "      <td>0</td>\n",
       "    </tr>\n",
       "    <tr>\n",
       "      <th>...</th>\n",
       "      <td>...</td>\n",
       "      <td>...</td>\n",
       "      <td>...</td>\n",
       "      <td>...</td>\n",
       "      <td>...</td>\n",
       "      <td>...</td>\n",
       "      <td>...</td>\n",
       "      <td>...</td>\n",
       "      <td>...</td>\n",
       "    </tr>\n",
       "    <tr>\n",
       "      <th>99994</th>\n",
       "      <td>Female</td>\n",
       "      <td>36.0</td>\n",
       "      <td>0</td>\n",
       "      <td>0</td>\n",
       "      <td>No Info</td>\n",
       "      <td>24.60</td>\n",
       "      <td>4.8</td>\n",
       "      <td>145</td>\n",
       "      <td>0</td>\n",
       "    </tr>\n",
       "    <tr>\n",
       "      <th>99996</th>\n",
       "      <td>Female</td>\n",
       "      <td>2.0</td>\n",
       "      <td>0</td>\n",
       "      <td>0</td>\n",
       "      <td>No Info</td>\n",
       "      <td>17.37</td>\n",
       "      <td>6.5</td>\n",
       "      <td>100</td>\n",
       "      <td>0</td>\n",
       "    </tr>\n",
       "    <tr>\n",
       "      <th>99997</th>\n",
       "      <td>Male</td>\n",
       "      <td>66.0</td>\n",
       "      <td>0</td>\n",
       "      <td>0</td>\n",
       "      <td>Former</td>\n",
       "      <td>27.83</td>\n",
       "      <td>5.7</td>\n",
       "      <td>155</td>\n",
       "      <td>0</td>\n",
       "    </tr>\n",
       "    <tr>\n",
       "      <th>99998</th>\n",
       "      <td>Female</td>\n",
       "      <td>24.0</td>\n",
       "      <td>0</td>\n",
       "      <td>0</td>\n",
       "      <td>Never</td>\n",
       "      <td>35.42</td>\n",
       "      <td>4.0</td>\n",
       "      <td>100</td>\n",
       "      <td>0</td>\n",
       "    </tr>\n",
       "    <tr>\n",
       "      <th>99999</th>\n",
       "      <td>Female</td>\n",
       "      <td>57.0</td>\n",
       "      <td>0</td>\n",
       "      <td>0</td>\n",
       "      <td>Current</td>\n",
       "      <td>22.43</td>\n",
       "      <td>6.6</td>\n",
       "      <td>90</td>\n",
       "      <td>0</td>\n",
       "    </tr>\n",
       "  </tbody>\n",
       "</table>\n",
       "<p>95676 rows × 9 columns</p>\n",
       "</div>"
      ],
      "text/plain": [
       "       gender   age  hypertension  heart_disease smoking_history    bmi   \n",
       "0      Female  80.0             0              1           Never  25.19  \\\n",
       "1      Female  54.0             0              0         No Info  27.32   \n",
       "2        Male  28.0             0              0           Never  27.32   \n",
       "3      Female  36.0             0              0         Current  23.45   \n",
       "4        Male  76.0             1              1         Current  20.14   \n",
       "...       ...   ...           ...            ...             ...    ...   \n",
       "99994  Female  36.0             0              0         No Info  24.60   \n",
       "99996  Female   2.0             0              0         No Info  17.37   \n",
       "99997    Male  66.0             0              0          Former  27.83   \n",
       "99998  Female  24.0             0              0           Never  35.42   \n",
       "99999  Female  57.0             0              0         Current  22.43   \n",
       "\n",
       "       HbA1c_level  blood_glucose_level  diabetes  \n",
       "0              6.6                  140         0  \n",
       "1              6.6                   80         0  \n",
       "2              5.7                  158         0  \n",
       "3              5.0                  155         0  \n",
       "4              4.8                  155         0  \n",
       "...            ...                  ...       ...  \n",
       "99994          4.8                  145         0  \n",
       "99996          6.5                  100         0  \n",
       "99997          5.7                  155         0  \n",
       "99998          4.0                  100         0  \n",
       "99999          6.6                   90         0  \n",
       "\n",
       "[95676 rows x 9 columns]"
      ]
     },
     "execution_count": 51,
     "metadata": {},
     "output_type": "execute_result"
    }
   ],
   "source": [
    "df_copy = df.copy()\n",
    "df_copy"
   ]
  },
  {
   "cell_type": "markdown",
   "id": "fe844b6c",
   "metadata": {},
   "source": [
    "### Categorical features\n",
    "\n",
    "One way to deal with categorical features is to map them to numerical values or encode them. I am going to map smoking_history to different numerical features and for the gender colum I am going to use label encoder because this column do not have an inherent order."
   ]
  },
  {
   "cell_type": "code",
   "execution_count": 52,
   "id": "7bcbf2cc",
   "metadata": {},
   "outputs": [],
   "source": [
    "smoking_history_mapping = {'Never': 0, 'No Info': -1, 'Current': 2, 'Former': 1, 'Ever': 2, 'Not current': 0}\n",
    "df['smoking_history'] = df['smoking_history'].map(smoking_history_mapping)"
   ]
  },
  {
   "cell_type": "code",
   "execution_count": 53,
   "id": "f98aeb68",
   "metadata": {},
   "outputs": [],
   "source": [
    "label_encoder = preprocessing.LabelEncoder()\n",
    "df['gender'] = label_encoder.fit_transform(df['gender'])"
   ]
  },
  {
   "cell_type": "markdown",
   "id": "4d771a10",
   "metadata": {},
   "source": [
    "Converting the features to the right data type."
   ]
  },
  {
   "cell_type": "code",
   "execution_count": 54,
   "id": "69ab2bce",
   "metadata": {},
   "outputs": [],
   "source": [
    "df['age'] = df['age'].astype(int)"
   ]
  },
  {
   "cell_type": "markdown",
   "id": "8eb56152",
   "metadata": {},
   "source": [
    "### Z-score\n",
    "One way to deal with outliers is to filter the entries that have a large z-score."
   ]
  },
  {
   "cell_type": "code",
   "execution_count": 55,
   "id": "6472bda7",
   "metadata": {},
   "outputs": [],
   "source": [
    "z_scores = df.apply(zscore)\n",
    "df['z_score'] = z_scores.mean(axis=1)"
   ]
  },
  {
   "cell_type": "markdown",
   "id": "69e7b26f",
   "metadata": {},
   "source": [
    "Now I will define a threshold value for the z-score that determines what constitutes an outlier. In my case I will go with values that are higher than 2.7 or lower than -1.2 to be considered outliers."
   ]
  },
  {
   "cell_type": "code",
   "execution_count": 56,
   "id": "8c2d82a0",
   "metadata": {},
   "outputs": [
    {
     "data": {
      "text/html": [
       "<div>\n",
       "<style scoped>\n",
       "    .dataframe tbody tr th:only-of-type {\n",
       "        vertical-align: middle;\n",
       "    }\n",
       "\n",
       "    .dataframe tbody tr th {\n",
       "        vertical-align: top;\n",
       "    }\n",
       "\n",
       "    .dataframe thead th {\n",
       "        text-align: right;\n",
       "    }\n",
       "</style>\n",
       "<table border=\"1\" class=\"dataframe\">\n",
       "  <thead>\n",
       "    <tr style=\"text-align: right;\">\n",
       "      <th></th>\n",
       "      <th>gender</th>\n",
       "      <th>age</th>\n",
       "      <th>hypertension</th>\n",
       "      <th>heart_disease</th>\n",
       "      <th>smoking_history</th>\n",
       "      <th>bmi</th>\n",
       "      <th>HbA1c_level</th>\n",
       "      <th>blood_glucose_level</th>\n",
       "      <th>diabetes</th>\n",
       "      <th>z_score</th>\n",
       "      <th>outlier</th>\n",
       "    </tr>\n",
       "  </thead>\n",
       "  <tbody>\n",
       "    <tr>\n",
       "      <th>0</th>\n",
       "      <td>0</td>\n",
       "      <td>80</td>\n",
       "      <td>0</td>\n",
       "      <td>1</td>\n",
       "      <td>0</td>\n",
       "      <td>25.19</td>\n",
       "      <td>6.6</td>\n",
       "      <td>140</td>\n",
       "      <td>0</td>\n",
       "      <td>0.641280</td>\n",
       "      <td>False</td>\n",
       "    </tr>\n",
       "    <tr>\n",
       "      <th>1</th>\n",
       "      <td>0</td>\n",
       "      <td>54</td>\n",
       "      <td>0</td>\n",
       "      <td>0</td>\n",
       "      <td>-1</td>\n",
       "      <td>27.32</td>\n",
       "      <td>6.6</td>\n",
       "      <td>80</td>\n",
       "      <td>0</td>\n",
       "      <td>-0.288026</td>\n",
       "      <td>False</td>\n",
       "    </tr>\n",
       "    <tr>\n",
       "      <th>2</th>\n",
       "      <td>1</td>\n",
       "      <td>28</td>\n",
       "      <td>0</td>\n",
       "      <td>0</td>\n",
       "      <td>0</td>\n",
       "      <td>27.32</td>\n",
       "      <td>5.7</td>\n",
       "      <td>158</td>\n",
       "      <td>0</td>\n",
       "      <td>0.038268</td>\n",
       "      <td>False</td>\n",
       "    </tr>\n",
       "    <tr>\n",
       "      <th>3</th>\n",
       "      <td>0</td>\n",
       "      <td>36</td>\n",
       "      <td>0</td>\n",
       "      <td>0</td>\n",
       "      <td>2</td>\n",
       "      <td>23.45</td>\n",
       "      <td>5.0</td>\n",
       "      <td>155</td>\n",
       "      <td>0</td>\n",
       "      <td>-0.067879</td>\n",
       "      <td>False</td>\n",
       "    </tr>\n",
       "    <tr>\n",
       "      <th>4</th>\n",
       "      <td>1</td>\n",
       "      <td>76</td>\n",
       "      <td>1</td>\n",
       "      <td>1</td>\n",
       "      <td>2</td>\n",
       "      <td>20.14</td>\n",
       "      <td>4.8</td>\n",
       "      <td>155</td>\n",
       "      <td>0</td>\n",
       "      <td>1.255896</td>\n",
       "      <td>False</td>\n",
       "    </tr>\n",
       "    <tr>\n",
       "      <th>...</th>\n",
       "      <td>...</td>\n",
       "      <td>...</td>\n",
       "      <td>...</td>\n",
       "      <td>...</td>\n",
       "      <td>...</td>\n",
       "      <td>...</td>\n",
       "      <td>...</td>\n",
       "      <td>...</td>\n",
       "      <td>...</td>\n",
       "      <td>...</td>\n",
       "      <td>...</td>\n",
       "    </tr>\n",
       "    <tr>\n",
       "      <th>99994</th>\n",
       "      <td>0</td>\n",
       "      <td>36</td>\n",
       "      <td>0</td>\n",
       "      <td>0</td>\n",
       "      <td>-1</td>\n",
       "      <td>24.60</td>\n",
       "      <td>4.8</td>\n",
       "      <td>145</td>\n",
       "      <td>0</td>\n",
       "      <td>-0.432335</td>\n",
       "      <td>False</td>\n",
       "    </tr>\n",
       "    <tr>\n",
       "      <th>99996</th>\n",
       "      <td>0</td>\n",
       "      <td>2</td>\n",
       "      <td>0</td>\n",
       "      <td>0</td>\n",
       "      <td>-1</td>\n",
       "      <td>17.37</td>\n",
       "      <td>6.5</td>\n",
       "      <td>100</td>\n",
       "      <td>0</td>\n",
       "      <td>-0.666886</td>\n",
       "      <td>False</td>\n",
       "    </tr>\n",
       "    <tr>\n",
       "      <th>99997</th>\n",
       "      <td>1</td>\n",
       "      <td>66</td>\n",
       "      <td>0</td>\n",
       "      <td>0</td>\n",
       "      <td>1</td>\n",
       "      <td>27.83</td>\n",
       "      <td>5.7</td>\n",
       "      <td>155</td>\n",
       "      <td>0</td>\n",
       "      <td>0.339495</td>\n",
       "      <td>False</td>\n",
       "    </tr>\n",
       "    <tr>\n",
       "      <th>99998</th>\n",
       "      <td>0</td>\n",
       "      <td>24</td>\n",
       "      <td>0</td>\n",
       "      <td>0</td>\n",
       "      <td>0</td>\n",
       "      <td>35.42</td>\n",
       "      <td>4.0</td>\n",
       "      <td>100</td>\n",
       "      <td>0</td>\n",
       "      <td>-0.406779</td>\n",
       "      <td>False</td>\n",
       "    </tr>\n",
       "    <tr>\n",
       "      <th>99999</th>\n",
       "      <td>0</td>\n",
       "      <td>57</td>\n",
       "      <td>0</td>\n",
       "      <td>0</td>\n",
       "      <td>2</td>\n",
       "      <td>22.43</td>\n",
       "      <td>6.6</td>\n",
       "      <td>90</td>\n",
       "      <td>0</td>\n",
       "      <td>0.009008</td>\n",
       "      <td>False</td>\n",
       "    </tr>\n",
       "  </tbody>\n",
       "</table>\n",
       "<p>95676 rows × 11 columns</p>\n",
       "</div>"
      ],
      "text/plain": [
       "       gender  age  hypertension  heart_disease  smoking_history    bmi   \n",
       "0           0   80             0              1                0  25.19  \\\n",
       "1           0   54             0              0               -1  27.32   \n",
       "2           1   28             0              0                0  27.32   \n",
       "3           0   36             0              0                2  23.45   \n",
       "4           1   76             1              1                2  20.14   \n",
       "...       ...  ...           ...            ...              ...    ...   \n",
       "99994       0   36             0              0               -1  24.60   \n",
       "99996       0    2             0              0               -1  17.37   \n",
       "99997       1   66             0              0                1  27.83   \n",
       "99998       0   24             0              0                0  35.42   \n",
       "99999       0   57             0              0                2  22.43   \n",
       "\n",
       "       HbA1c_level  blood_glucose_level  diabetes   z_score  outlier  \n",
       "0              6.6                  140         0  0.641280    False  \n",
       "1              6.6                   80         0 -0.288026    False  \n",
       "2              5.7                  158         0  0.038268    False  \n",
       "3              5.0                  155         0 -0.067879    False  \n",
       "4              4.8                  155         0  1.255896    False  \n",
       "...            ...                  ...       ...       ...      ...  \n",
       "99994          4.8                  145         0 -0.432335    False  \n",
       "99996          6.5                  100         0 -0.666886    False  \n",
       "99997          5.7                  155         0  0.339495    False  \n",
       "99998          4.0                  100         0 -0.406779    False  \n",
       "99999          6.6                   90         0  0.009008    False  \n",
       "\n",
       "[95676 rows x 11 columns]"
      ]
     },
     "execution_count": 56,
     "metadata": {},
     "output_type": "execute_result"
    }
   ],
   "source": [
    "df['outlier'] = (df['z_score'] >= 2.7) | (df['z_score'] <= -1.2)\n",
    "df"
   ]
  },
  {
   "cell_type": "markdown",
   "id": "0e8b39a5",
   "metadata": {},
   "source": [
    "Removing the outliers and dropping the columns that I made use off."
   ]
  },
  {
   "cell_type": "code",
   "execution_count": 57,
   "id": "1e283197",
   "metadata": {},
   "outputs": [
    {
     "data": {
      "text/html": [
       "<div>\n",
       "<style scoped>\n",
       "    .dataframe tbody tr th:only-of-type {\n",
       "        vertical-align: middle;\n",
       "    }\n",
       "\n",
       "    .dataframe tbody tr th {\n",
       "        vertical-align: top;\n",
       "    }\n",
       "\n",
       "    .dataframe thead th {\n",
       "        text-align: right;\n",
       "    }\n",
       "</style>\n",
       "<table border=\"1\" class=\"dataframe\">\n",
       "  <thead>\n",
       "    <tr style=\"text-align: right;\">\n",
       "      <th></th>\n",
       "      <th>gender</th>\n",
       "      <th>age</th>\n",
       "      <th>hypertension</th>\n",
       "      <th>heart_disease</th>\n",
       "      <th>smoking_history</th>\n",
       "      <th>bmi</th>\n",
       "      <th>HbA1c_level</th>\n",
       "      <th>blood_glucose_level</th>\n",
       "      <th>diabetes</th>\n",
       "    </tr>\n",
       "  </thead>\n",
       "  <tbody>\n",
       "    <tr>\n",
       "      <th>0</th>\n",
       "      <td>0</td>\n",
       "      <td>80</td>\n",
       "      <td>0</td>\n",
       "      <td>1</td>\n",
       "      <td>0</td>\n",
       "      <td>25.19</td>\n",
       "      <td>6.6</td>\n",
       "      <td>140</td>\n",
       "      <td>0</td>\n",
       "    </tr>\n",
       "    <tr>\n",
       "      <th>1</th>\n",
       "      <td>0</td>\n",
       "      <td>54</td>\n",
       "      <td>0</td>\n",
       "      <td>0</td>\n",
       "      <td>-1</td>\n",
       "      <td>27.32</td>\n",
       "      <td>6.6</td>\n",
       "      <td>80</td>\n",
       "      <td>0</td>\n",
       "    </tr>\n",
       "    <tr>\n",
       "      <th>2</th>\n",
       "      <td>1</td>\n",
       "      <td>28</td>\n",
       "      <td>0</td>\n",
       "      <td>0</td>\n",
       "      <td>0</td>\n",
       "      <td>27.32</td>\n",
       "      <td>5.7</td>\n",
       "      <td>158</td>\n",
       "      <td>0</td>\n",
       "    </tr>\n",
       "    <tr>\n",
       "      <th>3</th>\n",
       "      <td>0</td>\n",
       "      <td>36</td>\n",
       "      <td>0</td>\n",
       "      <td>0</td>\n",
       "      <td>2</td>\n",
       "      <td>23.45</td>\n",
       "      <td>5.0</td>\n",
       "      <td>155</td>\n",
       "      <td>0</td>\n",
       "    </tr>\n",
       "    <tr>\n",
       "      <th>4</th>\n",
       "      <td>1</td>\n",
       "      <td>76</td>\n",
       "      <td>1</td>\n",
       "      <td>1</td>\n",
       "      <td>2</td>\n",
       "      <td>20.14</td>\n",
       "      <td>4.8</td>\n",
       "      <td>155</td>\n",
       "      <td>0</td>\n",
       "    </tr>\n",
       "    <tr>\n",
       "      <th>...</th>\n",
       "      <td>...</td>\n",
       "      <td>...</td>\n",
       "      <td>...</td>\n",
       "      <td>...</td>\n",
       "      <td>...</td>\n",
       "      <td>...</td>\n",
       "      <td>...</td>\n",
       "      <td>...</td>\n",
       "      <td>...</td>\n",
       "    </tr>\n",
       "    <tr>\n",
       "      <th>99994</th>\n",
       "      <td>0</td>\n",
       "      <td>36</td>\n",
       "      <td>0</td>\n",
       "      <td>0</td>\n",
       "      <td>-1</td>\n",
       "      <td>24.60</td>\n",
       "      <td>4.8</td>\n",
       "      <td>145</td>\n",
       "      <td>0</td>\n",
       "    </tr>\n",
       "    <tr>\n",
       "      <th>99996</th>\n",
       "      <td>0</td>\n",
       "      <td>2</td>\n",
       "      <td>0</td>\n",
       "      <td>0</td>\n",
       "      <td>-1</td>\n",
       "      <td>17.37</td>\n",
       "      <td>6.5</td>\n",
       "      <td>100</td>\n",
       "      <td>0</td>\n",
       "    </tr>\n",
       "    <tr>\n",
       "      <th>99997</th>\n",
       "      <td>1</td>\n",
       "      <td>66</td>\n",
       "      <td>0</td>\n",
       "      <td>0</td>\n",
       "      <td>1</td>\n",
       "      <td>27.83</td>\n",
       "      <td>5.7</td>\n",
       "      <td>155</td>\n",
       "      <td>0</td>\n",
       "    </tr>\n",
       "    <tr>\n",
       "      <th>99998</th>\n",
       "      <td>0</td>\n",
       "      <td>24</td>\n",
       "      <td>0</td>\n",
       "      <td>0</td>\n",
       "      <td>0</td>\n",
       "      <td>35.42</td>\n",
       "      <td>4.0</td>\n",
       "      <td>100</td>\n",
       "      <td>0</td>\n",
       "    </tr>\n",
       "    <tr>\n",
       "      <th>99999</th>\n",
       "      <td>0</td>\n",
       "      <td>57</td>\n",
       "      <td>0</td>\n",
       "      <td>0</td>\n",
       "      <td>2</td>\n",
       "      <td>22.43</td>\n",
       "      <td>6.6</td>\n",
       "      <td>90</td>\n",
       "      <td>0</td>\n",
       "    </tr>\n",
       "  </tbody>\n",
       "</table>\n",
       "<p>95676 rows × 9 columns</p>\n",
       "</div>"
      ],
      "text/plain": [
       "       gender  age  hypertension  heart_disease  smoking_history    bmi   \n",
       "0           0   80             0              1                0  25.19  \\\n",
       "1           0   54             0              0               -1  27.32   \n",
       "2           1   28             0              0                0  27.32   \n",
       "3           0   36             0              0                2  23.45   \n",
       "4           1   76             1              1                2  20.14   \n",
       "...       ...  ...           ...            ...              ...    ...   \n",
       "99994       0   36             0              0               -1  24.60   \n",
       "99996       0    2             0              0               -1  17.37   \n",
       "99997       1   66             0              0                1  27.83   \n",
       "99998       0   24             0              0                0  35.42   \n",
       "99999       0   57             0              0                2  22.43   \n",
       "\n",
       "       HbA1c_level  blood_glucose_level  diabetes  \n",
       "0              6.6                  140         0  \n",
       "1              6.6                   80         0  \n",
       "2              5.7                  158         0  \n",
       "3              5.0                  155         0  \n",
       "4              4.8                  155         0  \n",
       "...            ...                  ...       ...  \n",
       "99994          4.8                  145         0  \n",
       "99996          6.5                  100         0  \n",
       "99997          5.7                  155         0  \n",
       "99998          4.0                  100         0  \n",
       "99999          6.6                   90         0  \n",
       "\n",
       "[95676 rows x 9 columns]"
      ]
     },
     "execution_count": 57,
     "metadata": {},
     "output_type": "execute_result"
    }
   ],
   "source": [
    "df = df[df['outlier'] == False]\n",
    "df = df.drop(['z_score', 'outlier'], axis=1)\n",
    "df"
   ]
  },
  {
   "cell_type": "code",
   "execution_count": 58,
   "id": "f5abbd10",
   "metadata": {},
   "outputs": [],
   "source": [
    "# sns.heatmap(df.corr(), annot = True, cmap = 'Blues')\n",
    "# plt.show()"
   ]
  },
  {
   "cell_type": "markdown",
   "id": "63fb2735",
   "metadata": {},
   "source": [
    "## Data Modeling\n",
    "\n",
    "For this data and problem, we are advised to use a decision decision tree. The next question that we have to answer is how to find the best hyperparameters. To answer this question, we can make use of a grid search with cross-validation using scikit-learn library. Grid search with cross-validation is a common technique for hyperparameter tuning, which involves searching over a specified range of hyperparameter values and evaluating the model's performance on a validation set using k-fold cross-validation. The combination of hyperparameter values that yields the best performance is then selected as the optimal hyperparameters for the model. https://scikit-learn.org/stable/modules/generated/sklearn.model_selection.GridSearchCV.html\n",
    "\n",
    "**What is the impact of the unbalanced data on your results? How can you mitigate it?**\n",
    "Second problem that I encounter is that this data is unbalanced this may affect the model accuracy in the end because it doesn't have enough samples. [Imblearn PyPI](https://pypi.org/project/imbalanced-learn/) is a package for imbalanced data, it provides a random under sampler tehnique to mitigate the problem. This works by lowering the amount of observation to match with the other class.\n",
    "\n",
    "**Should we sample before diving the data into train and test, or after it? What happens if we apply the model trained on the sampled data on the entire dataset, does it work?**\n",
    "\n",
    "I took the approach to sample the data after the training test split, it can be a good idea because it allows you to get a more accurate understanding of how well your model performs on unseen examples. Additionally it is crucial to simulate real-world scenarios as closely as possible. If we apply the model on the entire dataset it would work because it simulate the real-world scenarios, the model gets better understanding of the real settings."
   ]
  },
  {
   "cell_type": "markdown",
   "id": "1db188e5",
   "metadata": {},
   "source": [
    "### Select the data\n",
    "\n",
    "Let's try to predict `diabetes` by training a decision tree classifier on the data.\n",
    "\n",
    "### Train-Test split\n",
    "\n",
    "X contains the releveant features for this prediction, later we are going to find out what are the most important features"
   ]
  },
  {
   "cell_type": "code",
   "execution_count": 59,
   "id": "12b73110",
   "metadata": {
    "scrolled": true
   },
   "outputs": [
    {
     "data": {
      "text/html": [
       "<div>\n",
       "<style scoped>\n",
       "    .dataframe tbody tr th:only-of-type {\n",
       "        vertical-align: middle;\n",
       "    }\n",
       "\n",
       "    .dataframe tbody tr th {\n",
       "        vertical-align: top;\n",
       "    }\n",
       "\n",
       "    .dataframe thead th {\n",
       "        text-align: right;\n",
       "    }\n",
       "</style>\n",
       "<table border=\"1\" class=\"dataframe\">\n",
       "  <thead>\n",
       "    <tr style=\"text-align: right;\">\n",
       "      <th></th>\n",
       "      <th>gender</th>\n",
       "      <th>age</th>\n",
       "      <th>hypertension</th>\n",
       "      <th>heart_disease</th>\n",
       "      <th>smoking_history</th>\n",
       "      <th>bmi</th>\n",
       "      <th>HbA1c_level</th>\n",
       "      <th>blood_glucose_level</th>\n",
       "    </tr>\n",
       "  </thead>\n",
       "  <tbody>\n",
       "    <tr>\n",
       "      <th>51879</th>\n",
       "      <td>1</td>\n",
       "      <td>65</td>\n",
       "      <td>0</td>\n",
       "      <td>0</td>\n",
       "      <td>2</td>\n",
       "      <td>32.06</td>\n",
       "      <td>6.1</td>\n",
       "      <td>260</td>\n",
       "    </tr>\n",
       "    <tr>\n",
       "      <th>85709</th>\n",
       "      <td>1</td>\n",
       "      <td>46</td>\n",
       "      <td>1</td>\n",
       "      <td>0</td>\n",
       "      <td>0</td>\n",
       "      <td>32.09</td>\n",
       "      <td>6.5</td>\n",
       "      <td>80</td>\n",
       "    </tr>\n",
       "    <tr>\n",
       "      <th>35580</th>\n",
       "      <td>1</td>\n",
       "      <td>80</td>\n",
       "      <td>0</td>\n",
       "      <td>0</td>\n",
       "      <td>0</td>\n",
       "      <td>27.32</td>\n",
       "      <td>6.0</td>\n",
       "      <td>126</td>\n",
       "    </tr>\n",
       "    <tr>\n",
       "      <th>2950</th>\n",
       "      <td>0</td>\n",
       "      <td>17</td>\n",
       "      <td>0</td>\n",
       "      <td>0</td>\n",
       "      <td>0</td>\n",
       "      <td>35.47</td>\n",
       "      <td>4.8</td>\n",
       "      <td>145</td>\n",
       "    </tr>\n",
       "    <tr>\n",
       "      <th>33976</th>\n",
       "      <td>0</td>\n",
       "      <td>47</td>\n",
       "      <td>0</td>\n",
       "      <td>0</td>\n",
       "      <td>-1</td>\n",
       "      <td>27.32</td>\n",
       "      <td>6.6</td>\n",
       "      <td>130</td>\n",
       "    </tr>\n",
       "  </tbody>\n",
       "</table>\n",
       "</div>"
      ],
      "text/plain": [
       "       gender  age  hypertension  heart_disease  smoking_history    bmi   \n",
       "51879       1   65             0              0                2  32.06  \\\n",
       "85709       1   46             1              0                0  32.09   \n",
       "35580       1   80             0              0                0  27.32   \n",
       "2950        0   17             0              0                0  35.47   \n",
       "33976       0   47             0              0               -1  27.32   \n",
       "\n",
       "       HbA1c_level  blood_glucose_level  \n",
       "51879          6.1                  260  \n",
       "85709          6.5                   80  \n",
       "35580          6.0                  126  \n",
       "2950           4.8                  145  \n",
       "33976          6.6                  130  "
      ]
     },
     "execution_count": 59,
     "metadata": {},
     "output_type": "execute_result"
    }
   ],
   "source": [
    "X = df.drop('diabetes', axis = 1)\n",
    "y = df['diabetes']\n",
    "\n",
    "X_train, X_test, y_train, y_test = train_test_split(X, y, test_size = 0.2, random_state = 0)\n",
    "X_train.head(5)"
   ]
  },
  {
   "cell_type": "markdown",
   "id": "e4248f69",
   "metadata": {},
   "source": [
    "### Scaling data / Standardize data\n",
    "\n",
    "Scalling the data or standardizing it doesn't change anything worth mentioning so I decided to go over it."
   ]
  },
  {
   "cell_type": "code",
   "execution_count": 60,
   "id": "d4ebffc1",
   "metadata": {},
   "outputs": [],
   "source": [
    "# from sklearn.preprocessing import StandardScaler\n",
    "# scaler = StandardScaler()\n",
    "# X_train = scaler.fit_transform(X_train)\n",
    "# X_test = scaler.transform(X_test)"
   ]
  },
  {
   "cell_type": "code",
   "execution_count": 61,
   "id": "ba822266",
   "metadata": {},
   "outputs": [],
   "source": [
    "# stand = preprocessing.StandardScaler()\n",
    "# X_train = stand.fit_transform(X_train)\n",
    "# X_test = stand.transform(X_test)"
   ]
  },
  {
   "cell_type": "markdown",
   "id": "b03a0c7e",
   "metadata": {},
   "source": [
    "### Balance the data\n",
    "\n",
    "To proceed with the random under-sampling step, I can use the imblearn library to apply the random under-sampling technique to the training data.\n",
    "\n",
    "**Before under-sampling**"
   ]
  },
  {
   "cell_type": "code",
   "execution_count": 62,
   "id": "6d81faf7",
   "metadata": {},
   "outputs": [
    {
     "data": {
      "image/png": "[encoded data removed]",
      "text/plain": [
       "<Figure size 432x432 with 1 Axes>"
      ]
     },
     "metadata": {
      "needs_background": "light"
     },
     "output_type": "display_data"
    }
   ],
   "source": [
    "# Count the number of people with and without diabetes in the training set\n",
    "diabetes_counts = y_train.value_counts()\n",
    "\n",
    "# Create a bar plot or pie chart\n",
    "plt.figure(figsize=(6, 6))\n",
    "plt.bar(['No Diabetes', 'Diabetes'], diabetes_counts, color=['green', 'blue'])\n",
    "plt.title('Distribution of People with and without Diabetes in Training Set')\n",
    "plt.xlabel('Diabetes')\n",
    "plt.ylabel('Count')\n",
    "plt.show()"
   ]
  },
  {
   "cell_type": "markdown",
   "id": "5c1517a6",
   "metadata": {},
   "source": [
    "**SMOTEENN**"
   ]
  },
  {
   "cell_type": "code",
   "execution_count": 63,
   "id": "797fbba4",
   "metadata": {},
   "outputs": [],
   "source": [
    "# from imblearn.combine import SMOTEENN\n",
    "# #SMOTEENN\n",
    "# smote_enn = SMOTEENN(random_state=42)\n",
    "# X_train_resampled, y_train_resampled = smote_enn.fit_resample(X_train, y_train)"
   ]
  },
  {
   "cell_type": "markdown",
   "id": "871f20d0",
   "metadata": {},
   "source": [
    "**Under Sampler**"
   ]
  },
  {
   "cell_type": "code",
   "execution_count": 64,
   "id": "6d49e63e",
   "metadata": {},
   "outputs": [],
   "source": [
    "under_sampler = RandomUnderSampler(random_state=0)\n",
    "\n",
    "X_train_resampled, y_train_resampled = under_sampler.fit_resample(X_train, y_train)"
   ]
  },
  {
   "cell_type": "markdown",
   "id": "cb4b1211",
   "metadata": {},
   "source": [
    "**Over sampler**\n",
    "\n",
    "Over-sampling might work better in the end because it doesn't remove the datapoints next to the boundry."
   ]
  },
  {
   "cell_type": "code",
   "execution_count": 65,
   "id": "52460f03",
   "metadata": {},
   "outputs": [],
   "source": [
    "# from imblearn.over_sampling import RandomOverSampler\n",
    "\n",
    "# over_sampler = RandomOverSampler(random_state=0)\n",
    "# X_train_resampled, y_train_resampled = over_sampler.fit_resample(X_train, y_train)"
   ]
  },
  {
   "cell_type": "markdown",
   "id": "d0649f48",
   "metadata": {},
   "source": [
    "**After under-sampling**\n",
    "\n",
    "I can see that the under sampler shrinked down the cases where people had no diabetes to a more equal value like the ones who do have diabetes. To prevent the risk of overfitting, using an under-sampler in this case reduces the number of instances in the majority class this can work because we have enough datapoints in this dataset."
   ]
  },
  {
   "cell_type": "code",
   "execution_count": 66,
   "id": "62ef12ff",
   "metadata": {},
   "outputs": [
    {
     "data": {
      "image/png": "[encoded data removed]",
      "text/plain": [
       "<Figure size 432x432 with 1 Axes>"
      ]
     },
     "metadata": {
      "needs_background": "light"
     },
     "output_type": "display_data"
    }
   ],
   "source": [
    "diabetes_counts_resampled = pd.Series(y_train_resampled).value_counts()\n",
    "plt.figure(figsize=(6, 6))\n",
    "plt.bar(['No Diabetes', 'Diabetes'], diabetes_counts_resampled, color=['green', 'blue'])\n",
    "plt.title('Distribution of People with and without Diabetes in Under-sampled Training Set')\n",
    "plt.xlabel('Diabetes')\n",
    "plt.ylabel('Count')\n",
    "plt.show()"
   ]
  },
  {
   "cell_type": "markdown",
   "id": "ab4d524c",
   "metadata": {},
   "source": [
    "### Decision-tree classifier\n",
    "\n",
    "Next, we create the _decision-tree object_ for **decision tree mining**,\n",
    "and store it in the variable `tree`."
   ]
  },
  {
   "cell_type": "code",
   "execution_count": 67,
   "id": "5142eac5",
   "metadata": {},
   "outputs": [
    {
     "data": {
      "text/html": [
       "<style>#sk-container-id-1 {color: black;background-color: white;}#sk-container-id-1 pre{padding: 0;}#sk-container-id-1 div.sk-toggleable {background-color: white;}#sk-container-id-1 label.sk-toggleable__label {cursor: pointer;display: block;width: 100%;margin-bottom: 0;padding: 0.3em;box-sizing: border-box;text-align: center;}#sk-container-id-1 label.sk-toggleable__label-arrow:before {content: \"▸\";float: left;margin-right: 0.25em;color: #696969;}#sk-container-id-1 label.sk-toggleable__label-arrow:hover:before {color: black;}#sk-container-id-1 div.sk-estimator:hover label.sk-toggleable__label-arrow:before {color: black;}#sk-container-id-1 div.sk-toggleable__content {max-height: 0;max-width: 0;overflow: hidden;text-align: left;background-color: #f0f8ff;}#sk-container-id-1 div.sk-toggleable__content pre {margin: 0.2em;color: black;border-radius: 0.25em;background-color: #f0f8ff;}#sk-container-id-1 input.sk-toggleable__control:checked~div.sk-toggleable__content {max-height: 200px;max-width: 100%;overflow: auto;}#sk-container-id-1 input.sk-toggleable__control:checked~label.sk-toggleable__label-arrow:before {content: \"▾\";}#sk-container-id-1 div.sk-estimator input.sk-toggleable__control:checked~label.sk-toggleable__label {background-color: #d4ebff;}#sk-container-id-1 div.sk-label input.sk-toggleable__control:checked~label.sk-toggleable__label {background-color: #d4ebff;}#sk-container-id-1 input.sk-hidden--visually {border: 0;clip: rect(1px 1px 1px 1px);clip: rect(1px, 1px, 1px, 1px);height: 1px;margin: -1px;overflow: hidden;padding: 0;position: absolute;width: 1px;}#sk-container-id-1 div.sk-estimator {font-family: monospace;background-color: #f0f8ff;border: 1px dotted black;border-radius: 0.25em;box-sizing: border-box;margin-bottom: 0.5em;}#sk-container-id-1 div.sk-estimator:hover {background-color: #d4ebff;}#sk-container-id-1 div.sk-parallel-item::after {content: \"\";width: 100%;border-bottom: 1px solid gray;flex-grow: 1;}#sk-container-id-1 div.sk-label:hover label.sk-toggleable__label {background-color: #d4ebff;}#sk-container-id-1 div.sk-serial::before {content: \"\";position: absolute;border-left: 1px solid gray;box-sizing: border-box;top: 0;bottom: 0;left: 50%;z-index: 0;}#sk-container-id-1 div.sk-serial {display: flex;flex-direction: column;align-items: center;background-color: white;padding-right: 0.2em;padding-left: 0.2em;position: relative;}#sk-container-id-1 div.sk-item {position: relative;z-index: 1;}#sk-container-id-1 div.sk-parallel {display: flex;align-items: stretch;justify-content: center;background-color: white;position: relative;}#sk-container-id-1 div.sk-item::before, #sk-container-id-1 div.sk-parallel-item::before {content: \"\";position: absolute;border-left: 1px solid gray;box-sizing: border-box;top: 0;bottom: 0;left: 50%;z-index: -1;}#sk-container-id-1 div.sk-parallel-item {display: flex;flex-direction: column;z-index: 1;position: relative;background-color: white;}#sk-container-id-1 div.sk-parallel-item:first-child::after {align-self: flex-end;width: 50%;}#sk-container-id-1 div.sk-parallel-item:last-child::after {align-self: flex-start;width: 50%;}#sk-container-id-1 div.sk-parallel-item:only-child::after {width: 0;}#sk-container-id-1 div.sk-dashed-wrapped {border: 1px dashed gray;margin: 0 0.4em 0.5em 0.4em;box-sizing: border-box;padding-bottom: 0.4em;background-color: white;}#sk-container-id-1 div.sk-label label {font-family: monospace;font-weight: bold;display: inline-block;line-height: 1.2em;}#sk-container-id-1 div.sk-label-container {text-align: center;}#sk-container-id-1 div.sk-container {/* jupyter's `normalize.less` sets `[hidden] { display: none; }` but bootstrap.min.css set `[hidden] { display: none !important; }` so we also need the `!important` here to be able to override the default hidden behavior on the sphinx rendered scikit-learn.org. See: https://github.com/scikit-learn/scikit-learn/issues/21755 */display: inline-block !important;position: relative;}#sk-container-id-1 div.sk-text-repr-fallback {display: none;}</style><div id=\"sk-container-id-1\" class=\"sk-top-container\"><div class=\"sk-text-repr-fallback\"><pre>DecisionTreeClassifier()</pre><b>In a Jupyter environment, please rerun this cell to show the HTML representation or trust the notebook. <br />On GitHub, the HTML representation is unable to render, please try loading this page with nbviewer.org.</b></div><div class=\"sk-container\" hidden><div class=\"sk-item\"><div class=\"sk-estimator sk-toggleable\"><input class=\"sk-toggleable__control sk-hidden--visually\" id=\"sk-estimator-id-1\" type=\"checkbox\" checked><label for=\"sk-estimator-id-1\" class=\"sk-toggleable__label sk-toggleable__label-arrow\">DecisionTreeClassifier</label><div class=\"sk-toggleable__content\"><pre>DecisionTreeClassifier()</pre></div></div></div></div></div>"
      ],
      "text/plain": [
       "DecisionTreeClassifier()"
      ]
     },
     "execution_count": 67,
     "metadata": {},
     "output_type": "execute_result"
    }
   ],
   "source": [
    "tree = DecisionTreeClassifier()\n",
    "tree"
   ]
  },
  {
   "cell_type": "markdown",
   "id": "71161d50",
   "metadata": {},
   "source": [
    "### Fitting the model\n",
    "\n",
    "Invoke the **`fit()`** function of the decision-tree object,\n",
    "supplying the selected data"
   ]
  },
  {
   "cell_type": "code",
   "execution_count": 68,
   "id": "e64befe9",
   "metadata": {},
   "outputs": [
    {
     "data": {
      "text/html": [
       "<style>#sk-container-id-2 {color: black;background-color: white;}#sk-container-id-2 pre{padding: 0;}#sk-container-id-2 div.sk-toggleable {background-color: white;}#sk-container-id-2 label.sk-toggleable__label {cursor: pointer;display: block;width: 100%;margin-bottom: 0;padding: 0.3em;box-sizing: border-box;text-align: center;}#sk-container-id-2 label.sk-toggleable__label-arrow:before {content: \"▸\";float: left;margin-right: 0.25em;color: #696969;}#sk-container-id-2 label.sk-toggleable__label-arrow:hover:before {color: black;}#sk-container-id-2 div.sk-estimator:hover label.sk-toggleable__label-arrow:before {color: black;}#sk-container-id-2 div.sk-toggleable__content {max-height: 0;max-width: 0;overflow: hidden;text-align: left;background-color: #f0f8ff;}#sk-container-id-2 div.sk-toggleable__content pre {margin: 0.2em;color: black;border-radius: 0.25em;background-color: #f0f8ff;}#sk-container-id-2 input.sk-toggleable__control:checked~div.sk-toggleable__content {max-height: 200px;max-width: 100%;overflow: auto;}#sk-container-id-2 input.sk-toggleable__control:checked~label.sk-toggleable__label-arrow:before {content: \"▾\";}#sk-container-id-2 div.sk-estimator input.sk-toggleable__control:checked~label.sk-toggleable__label {background-color: #d4ebff;}#sk-container-id-2 div.sk-label input.sk-toggleable__control:checked~label.sk-toggleable__label {background-color: #d4ebff;}#sk-container-id-2 input.sk-hidden--visually {border: 0;clip: rect(1px 1px 1px 1px);clip: rect(1px, 1px, 1px, 1px);height: 1px;margin: -1px;overflow: hidden;padding: 0;position: absolute;width: 1px;}#sk-container-id-2 div.sk-estimator {font-family: monospace;background-color: #f0f8ff;border: 1px dotted black;border-radius: 0.25em;box-sizing: border-box;margin-bottom: 0.5em;}#sk-container-id-2 div.sk-estimator:hover {background-color: #d4ebff;}#sk-container-id-2 div.sk-parallel-item::after {content: \"\";width: 100%;border-bottom: 1px solid gray;flex-grow: 1;}#sk-container-id-2 div.sk-label:hover label.sk-toggleable__label {background-color: #d4ebff;}#sk-container-id-2 div.sk-serial::before {content: \"\";position: absolute;border-left: 1px solid gray;box-sizing: border-box;top: 0;bottom: 0;left: 50%;z-index: 0;}#sk-container-id-2 div.sk-serial {display: flex;flex-direction: column;align-items: center;background-color: white;padding-right: 0.2em;padding-left: 0.2em;position: relative;}#sk-container-id-2 div.sk-item {position: relative;z-index: 1;}#sk-container-id-2 div.sk-parallel {display: flex;align-items: stretch;justify-content: center;background-color: white;position: relative;}#sk-container-id-2 div.sk-item::before, #sk-container-id-2 div.sk-parallel-item::before {content: \"\";position: absolute;border-left: 1px solid gray;box-sizing: border-box;top: 0;bottom: 0;left: 50%;z-index: -1;}#sk-container-id-2 div.sk-parallel-item {display: flex;flex-direction: column;z-index: 1;position: relative;background-color: white;}#sk-container-id-2 div.sk-parallel-item:first-child::after {align-self: flex-end;width: 50%;}#sk-container-id-2 div.sk-parallel-item:last-child::after {align-self: flex-start;width: 50%;}#sk-container-id-2 div.sk-parallel-item:only-child::after {width: 0;}#sk-container-id-2 div.sk-dashed-wrapped {border: 1px dashed gray;margin: 0 0.4em 0.5em 0.4em;box-sizing: border-box;padding-bottom: 0.4em;background-color: white;}#sk-container-id-2 div.sk-label label {font-family: monospace;font-weight: bold;display: inline-block;line-height: 1.2em;}#sk-container-id-2 div.sk-label-container {text-align: center;}#sk-container-id-2 div.sk-container {/* jupyter's `normalize.less` sets `[hidden] { display: none; }` but bootstrap.min.css set `[hidden] { display: none !important; }` so we also need the `!important` here to be able to override the default hidden behavior on the sphinx rendered scikit-learn.org. See: https://github.com/scikit-learn/scikit-learn/issues/21755 */display: inline-block !important;position: relative;}#sk-container-id-2 div.sk-text-repr-fallback {display: none;}</style><div id=\"sk-container-id-2\" class=\"sk-top-container\"><div class=\"sk-text-repr-fallback\"><pre>DecisionTreeClassifier()</pre><b>In a Jupyter environment, please rerun this cell to show the HTML representation or trust the notebook. <br />On GitHub, the HTML representation is unable to render, please try loading this page with nbviewer.org.</b></div><div class=\"sk-container\" hidden><div class=\"sk-item\"><div class=\"sk-estimator sk-toggleable\"><input class=\"sk-toggleable__control sk-hidden--visually\" id=\"sk-estimator-id-2\" type=\"checkbox\" checked><label for=\"sk-estimator-id-2\" class=\"sk-toggleable__label sk-toggleable__label-arrow\">DecisionTreeClassifier</label><div class=\"sk-toggleable__content\"><pre>DecisionTreeClassifier()</pre></div></div></div></div></div>"
      ],
      "text/plain": [
       "DecisionTreeClassifier()"
      ]
     },
     "execution_count": 68,
     "metadata": {},
     "output_type": "execute_result"
    }
   ],
   "source": [
    "tree.fit(X_train_resampled, y_train_resampled)"
   ]
  },
  {
   "cell_type": "markdown",
   "id": "a6d2b274",
   "metadata": {},
   "source": [
    "### Extract model parameters\n",
    "\n",
    "In case of decision tree mining, there are relevant attributes of the decision-tree."
   ]
  },
  {
   "cell_type": "code",
   "execution_count": 69,
   "id": "45cd0e46",
   "metadata": {
    "scrolled": true
   },
   "outputs": [
    {
     "data": {
      "text/plain": [
       "(2705, 36)"
      ]
     },
     "execution_count": 69,
     "metadata": {},
     "output_type": "execute_result"
    }
   ],
   "source": [
    "tree.tree_.node_count, tree.tree_.max_depth"
   ]
  },
  {
   "cell_type": "markdown",
   "id": "6ab432a8",
   "metadata": {},
   "source": [
    "### Features importance\n",
    "\n",
    "The decision tree model assigns an importance score to each feature based on how much it contributes to the model's prediction accuracy. To better understand which features are the most important in predicting daiabetes, I am going sort the top features."
   ]
  },
  {
   "cell_type": "code",
   "execution_count": 70,
   "id": "bcfe2498",
   "metadata": {
    "scrolled": true
   },
   "outputs": [
    {
     "data": {
      "text/html": [
       "<div>\n",
       "<style scoped>\n",
       "    .dataframe tbody tr th:only-of-type {\n",
       "        vertical-align: middle;\n",
       "    }\n",
       "\n",
       "    .dataframe tbody tr th {\n",
       "        vertical-align: top;\n",
       "    }\n",
       "\n",
       "    .dataframe thead th {\n",
       "        text-align: right;\n",
       "    }\n",
       "</style>\n",
       "<table border=\"1\" class=\"dataframe\">\n",
       "  <thead>\n",
       "    <tr style=\"text-align: right;\">\n",
       "      <th></th>\n",
       "      <th>Importance</th>\n",
       "    </tr>\n",
       "  </thead>\n",
       "  <tbody>\n",
       "    <tr>\n",
       "      <th>HbA1c_level</th>\n",
       "      <td>0.414439</td>\n",
       "    </tr>\n",
       "    <tr>\n",
       "      <th>blood_glucose_level</th>\n",
       "      <td>0.304563</td>\n",
       "    </tr>\n",
       "    <tr>\n",
       "      <th>age</th>\n",
       "      <td>0.133385</td>\n",
       "    </tr>\n",
       "    <tr>\n",
       "      <th>bmi</th>\n",
       "      <td>0.099205</td>\n",
       "    </tr>\n",
       "    <tr>\n",
       "      <th>smoking_history</th>\n",
       "      <td>0.020559</td>\n",
       "    </tr>\n",
       "    <tr>\n",
       "      <th>gender</th>\n",
       "      <td>0.011343</td>\n",
       "    </tr>\n",
       "    <tr>\n",
       "      <th>hypertension</th>\n",
       "      <td>0.010744</td>\n",
       "    </tr>\n",
       "    <tr>\n",
       "      <th>heart_disease</th>\n",
       "      <td>0.005761</td>\n",
       "    </tr>\n",
       "  </tbody>\n",
       "</table>\n",
       "</div>"
      ],
      "text/plain": [
       "                     Importance\n",
       "HbA1c_level            0.414439\n",
       "blood_glucose_level    0.304563\n",
       "age                    0.133385\n",
       "bmi                    0.099205\n",
       "smoking_history        0.020559\n",
       "gender                 0.011343\n",
       "hypertension           0.010744\n",
       "heart_disease          0.005761"
      ]
     },
     "execution_count": 70,
     "metadata": {},
     "output_type": "execute_result"
    }
   ],
   "source": [
    "X_train_resampled_df = pd.DataFrame(X_train_resampled, columns=X.columns)\n",
    "feature_importances = pd.DataFrame([tree.feature_importances_], columns=X_train_resampled_df.columns)\n",
    "feature_importances = feature_importances.transpose().sort_values(by=0, ascending=False)\n",
    "feature_importances = feature_importances.rename(columns={0: 'Importance'})\n",
    "feature_importances"
   ]
  },
  {
   "cell_type": "markdown",
   "id": "c0f8c4a6",
   "metadata": {},
   "source": [
    "### Assess the model's quality\n",
    "\n",
    "The quality of a decision tree can be expressed as its _accuracy_ ,\n",
    "obtained as follows:"
   ]
  },
  {
   "cell_type": "code",
   "execution_count": 71,
   "id": "ac15b42a",
   "metadata": {
    "scrolled": true
   },
   "outputs": [
    {
     "name": "stdout",
     "output_type": "stream",
     "text": [
      "Training score: 0.9994114184814596\n"
     ]
    }
   ],
   "source": [
    "train_score = tree.score(X_train_resampled, y_train_resampled)\n",
    "print(\"Training score:\", train_score)"
   ]
  },
  {
   "cell_type": "code",
   "execution_count": 72,
   "id": "39760135",
   "metadata": {},
   "outputs": [
    {
     "name": "stdout",
     "output_type": "stream",
     "text": [
      "Testing score: 0.8758883779264214\n"
     ]
    }
   ],
   "source": [
    "test_score = tree.score(X_test, y_test)\n",
    "print(\"Testing score:\", test_score)"
   ]
  },
  {
   "cell_type": "markdown",
   "id": "ebd8e22f",
   "metadata": {},
   "source": [
    "### Tuning hyperparameters\n",
    "\n",
    "Using a [grid search with cross-validation](https://scikit-learn.org/stable/modules/generated/sklearn.model_selection.GridSearchCV.html) is a common approach for tuning hyperparameters in machine learning models.\n",
    "GridSearchCV is a technique used for tuning the hyperparameters of a machine learning model. It is essentially an exhaustive search algorithm that searches through a specified hyperparameter space to find the combination of hyperparameters that results in the best performance for the model. It does this by training and evaluating the model using all possible combinations of hyperparameters, and then returns the combination that performs the best based on a specified evaluation metric. "
   ]
  },
  {
   "cell_type": "code",
   "execution_count": 73,
   "id": "4387b405",
   "metadata": {},
   "outputs": [
    {
     "name": "stdout",
     "output_type": "stream",
     "text": [
      "Best parameters:  {'max_depth': 7, 'min_samples_leaf': 1, 'min_samples_split': 2}\n",
      "Best score:  0.8923637412685539\n"
     ]
    }
   ],
   "source": [
    "param_grid = {\n",
    "    'max_depth': [None, 3, 5, 7],\n",
    "    'min_samples_split': [2, 5, 10],\n",
    "    'min_samples_leaf': [1, 2, 4]\n",
    "}\n",
    "\n",
    "grid_search = GridSearchCV(tree, param_grid=param_grid, cv=5)\n",
    "grid_search.fit(X_train_resampled, y_train_resampled)\n",
    "\n",
    "print(\"Best parameters: \", grid_search.best_params_)\n",
    "print(\"Best score: \", grid_search.best_score_)"
   ]
  },
  {
   "cell_type": "markdown",
   "id": "a94c6236",
   "metadata": {},
   "source": [
    "With the new hyperparameters we can tune the model for better predictions. The grid search with cross-validation specifies that the best hyperparameters are the following: max_depth 7, min_samples_leaf 1, min_samples_split 5.\n",
    "The max_depth is maximum depth of the decision tree which should be 7 in our case. The min_samples_leaf specifies the minimum number of samples required to be in a leaf node. The min_samples_split determines the minimum number of samples required to split an internal node."
   ]
  },
  {
   "cell_type": "code",
   "execution_count": 74,
   "id": "a8586e9a",
   "metadata": {},
   "outputs": [
    {
     "data": {
      "text/html": [
       "<style>#sk-container-id-3 {color: black;background-color: white;}#sk-container-id-3 pre{padding: 0;}#sk-container-id-3 div.sk-toggleable {background-color: white;}#sk-container-id-3 label.sk-toggleable__label {cursor: pointer;display: block;width: 100%;margin-bottom: 0;padding: 0.3em;box-sizing: border-box;text-align: center;}#sk-container-id-3 label.sk-toggleable__label-arrow:before {content: \"▸\";float: left;margin-right: 0.25em;color: #696969;}#sk-container-id-3 label.sk-toggleable__label-arrow:hover:before {color: black;}#sk-container-id-3 div.sk-estimator:hover label.sk-toggleable__label-arrow:before {color: black;}#sk-container-id-3 div.sk-toggleable__content {max-height: 0;max-width: 0;overflow: hidden;text-align: left;background-color: #f0f8ff;}#sk-container-id-3 div.sk-toggleable__content pre {margin: 0.2em;color: black;border-radius: 0.25em;background-color: #f0f8ff;}#sk-container-id-3 input.sk-toggleable__control:checked~div.sk-toggleable__content {max-height: 200px;max-width: 100%;overflow: auto;}#sk-container-id-3 input.sk-toggleable__control:checked~label.sk-toggleable__label-arrow:before {content: \"▾\";}#sk-container-id-3 div.sk-estimator input.sk-toggleable__control:checked~label.sk-toggleable__label {background-color: #d4ebff;}#sk-container-id-3 div.sk-label input.sk-toggleable__control:checked~label.sk-toggleable__label {background-color: #d4ebff;}#sk-container-id-3 input.sk-hidden--visually {border: 0;clip: rect(1px 1px 1px 1px);clip: rect(1px, 1px, 1px, 1px);height: 1px;margin: -1px;overflow: hidden;padding: 0;position: absolute;width: 1px;}#sk-container-id-3 div.sk-estimator {font-family: monospace;background-color: #f0f8ff;border: 1px dotted black;border-radius: 0.25em;box-sizing: border-box;margin-bottom: 0.5em;}#sk-container-id-3 div.sk-estimator:hover {background-color: #d4ebff;}#sk-container-id-3 div.sk-parallel-item::after {content: \"\";width: 100%;border-bottom: 1px solid gray;flex-grow: 1;}#sk-container-id-3 div.sk-label:hover label.sk-toggleable__label {background-color: #d4ebff;}#sk-container-id-3 div.sk-serial::before {content: \"\";position: absolute;border-left: 1px solid gray;box-sizing: border-box;top: 0;bottom: 0;left: 50%;z-index: 0;}#sk-container-id-3 div.sk-serial {display: flex;flex-direction: column;align-items: center;background-color: white;padding-right: 0.2em;padding-left: 0.2em;position: relative;}#sk-container-id-3 div.sk-item {position: relative;z-index: 1;}#sk-container-id-3 div.sk-parallel {display: flex;align-items: stretch;justify-content: center;background-color: white;position: relative;}#sk-container-id-3 div.sk-item::before, #sk-container-id-3 div.sk-parallel-item::before {content: \"\";position: absolute;border-left: 1px solid gray;box-sizing: border-box;top: 0;bottom: 0;left: 50%;z-index: -1;}#sk-container-id-3 div.sk-parallel-item {display: flex;flex-direction: column;z-index: 1;position: relative;background-color: white;}#sk-container-id-3 div.sk-parallel-item:first-child::after {align-self: flex-end;width: 50%;}#sk-container-id-3 div.sk-parallel-item:last-child::after {align-self: flex-start;width: 50%;}#sk-container-id-3 div.sk-parallel-item:only-child::after {width: 0;}#sk-container-id-3 div.sk-dashed-wrapped {border: 1px dashed gray;margin: 0 0.4em 0.5em 0.4em;box-sizing: border-box;padding-bottom: 0.4em;background-color: white;}#sk-container-id-3 div.sk-label label {font-family: monospace;font-weight: bold;display: inline-block;line-height: 1.2em;}#sk-container-id-3 div.sk-label-container {text-align: center;}#sk-container-id-3 div.sk-container {/* jupyter's `normalize.less` sets `[hidden] { display: none; }` but bootstrap.min.css set `[hidden] { display: none !important; }` so we also need the `!important` here to be able to override the default hidden behavior on the sphinx rendered scikit-learn.org. See: https://github.com/scikit-learn/scikit-learn/issues/21755 */display: inline-block !important;position: relative;}#sk-container-id-3 div.sk-text-repr-fallback {display: none;}</style><div id=\"sk-container-id-3\" class=\"sk-top-container\"><div class=\"sk-text-repr-fallback\"><pre>DecisionTreeClassifier(max_depth=7)</pre><b>In a Jupyter environment, please rerun this cell to show the HTML representation or trust the notebook. <br />On GitHub, the HTML representation is unable to render, please try loading this page with nbviewer.org.</b></div><div class=\"sk-container\" hidden><div class=\"sk-item\"><div class=\"sk-estimator sk-toggleable\"><input class=\"sk-toggleable__control sk-hidden--visually\" id=\"sk-estimator-id-3\" type=\"checkbox\" checked><label for=\"sk-estimator-id-3\" class=\"sk-toggleable__label sk-toggleable__label-arrow\">DecisionTreeClassifier</label><div class=\"sk-toggleable__content\"><pre>DecisionTreeClassifier(max_depth=7)</pre></div></div></div></div></div>"
      ],
      "text/plain": [
       "DecisionTreeClassifier(max_depth=7)"
      ]
     },
     "execution_count": 74,
     "metadata": {},
     "output_type": "execute_result"
    }
   ],
   "source": [
    "tree = DecisionTreeClassifier(max_depth=7, min_samples_leaf=1, min_samples_split=2)\n",
    "tree"
   ]
  },
  {
   "cell_type": "code",
   "execution_count": 75,
   "id": "537d143a",
   "metadata": {
    "scrolled": true
   },
   "outputs": [
    {
     "data": {
      "text/html": [
       "<style>#sk-container-id-4 {color: black;background-color: white;}#sk-container-id-4 pre{padding: 0;}#sk-container-id-4 div.sk-toggleable {background-color: white;}#sk-container-id-4 label.sk-toggleable__label {cursor: pointer;display: block;width: 100%;margin-bottom: 0;padding: 0.3em;box-sizing: border-box;text-align: center;}#sk-container-id-4 label.sk-toggleable__label-arrow:before {content: \"▸\";float: left;margin-right: 0.25em;color: #696969;}#sk-container-id-4 label.sk-toggleable__label-arrow:hover:before {color: black;}#sk-container-id-4 div.sk-estimator:hover label.sk-toggleable__label-arrow:before {color: black;}#sk-container-id-4 div.sk-toggleable__content {max-height: 0;max-width: 0;overflow: hidden;text-align: left;background-color: #f0f8ff;}#sk-container-id-4 div.sk-toggleable__content pre {margin: 0.2em;color: black;border-radius: 0.25em;background-color: #f0f8ff;}#sk-container-id-4 input.sk-toggleable__control:checked~div.sk-toggleable__content {max-height: 200px;max-width: 100%;overflow: auto;}#sk-container-id-4 input.sk-toggleable__control:checked~label.sk-toggleable__label-arrow:before {content: \"▾\";}#sk-container-id-4 div.sk-estimator input.sk-toggleable__control:checked~label.sk-toggleable__label {background-color: #d4ebff;}#sk-container-id-4 div.sk-label input.sk-toggleable__control:checked~label.sk-toggleable__label {background-color: #d4ebff;}#sk-container-id-4 input.sk-hidden--visually {border: 0;clip: rect(1px 1px 1px 1px);clip: rect(1px, 1px, 1px, 1px);height: 1px;margin: -1px;overflow: hidden;padding: 0;position: absolute;width: 1px;}#sk-container-id-4 div.sk-estimator {font-family: monospace;background-color: #f0f8ff;border: 1px dotted black;border-radius: 0.25em;box-sizing: border-box;margin-bottom: 0.5em;}#sk-container-id-4 div.sk-estimator:hover {background-color: #d4ebff;}#sk-container-id-4 div.sk-parallel-item::after {content: \"\";width: 100%;border-bottom: 1px solid gray;flex-grow: 1;}#sk-container-id-4 div.sk-label:hover label.sk-toggleable__label {background-color: #d4ebff;}#sk-container-id-4 div.sk-serial::before {content: \"\";position: absolute;border-left: 1px solid gray;box-sizing: border-box;top: 0;bottom: 0;left: 50%;z-index: 0;}#sk-container-id-4 div.sk-serial {display: flex;flex-direction: column;align-items: center;background-color: white;padding-right: 0.2em;padding-left: 0.2em;position: relative;}#sk-container-id-4 div.sk-item {position: relative;z-index: 1;}#sk-container-id-4 div.sk-parallel {display: flex;align-items: stretch;justify-content: center;background-color: white;position: relative;}#sk-container-id-4 div.sk-item::before, #sk-container-id-4 div.sk-parallel-item::before {content: \"\";position: absolute;border-left: 1px solid gray;box-sizing: border-box;top: 0;bottom: 0;left: 50%;z-index: -1;}#sk-container-id-4 div.sk-parallel-item {display: flex;flex-direction: column;z-index: 1;position: relative;background-color: white;}#sk-container-id-4 div.sk-parallel-item:first-child::after {align-self: flex-end;width: 50%;}#sk-container-id-4 div.sk-parallel-item:last-child::after {align-self: flex-start;width: 50%;}#sk-container-id-4 div.sk-parallel-item:only-child::after {width: 0;}#sk-container-id-4 div.sk-dashed-wrapped {border: 1px dashed gray;margin: 0 0.4em 0.5em 0.4em;box-sizing: border-box;padding-bottom: 0.4em;background-color: white;}#sk-container-id-4 div.sk-label label {font-family: monospace;font-weight: bold;display: inline-block;line-height: 1.2em;}#sk-container-id-4 div.sk-label-container {text-align: center;}#sk-container-id-4 div.sk-container {/* jupyter's `normalize.less` sets `[hidden] { display: none; }` but bootstrap.min.css set `[hidden] { display: none !important; }` so we also need the `!important` here to be able to override the default hidden behavior on the sphinx rendered scikit-learn.org. See: https://github.com/scikit-learn/scikit-learn/issues/21755 */display: inline-block !important;position: relative;}#sk-container-id-4 div.sk-text-repr-fallback {display: none;}</style><div id=\"sk-container-id-4\" class=\"sk-top-container\"><div class=\"sk-text-repr-fallback\"><pre>DecisionTreeClassifier(max_depth=7)</pre><b>In a Jupyter environment, please rerun this cell to show the HTML representation or trust the notebook. <br />On GitHub, the HTML representation is unable to render, please try loading this page with nbviewer.org.</b></div><div class=\"sk-container\" hidden><div class=\"sk-item\"><div class=\"sk-estimator sk-toggleable\"><input class=\"sk-toggleable__control sk-hidden--visually\" id=\"sk-estimator-id-4\" type=\"checkbox\" checked><label for=\"sk-estimator-id-4\" class=\"sk-toggleable__label sk-toggleable__label-arrow\">DecisionTreeClassifier</label><div class=\"sk-toggleable__content\"><pre>DecisionTreeClassifier(max_depth=7)</pre></div></div></div></div></div>"
      ],
      "text/plain": [
       "DecisionTreeClassifier(max_depth=7)"
      ]
     },
     "execution_count": 75,
     "metadata": {},
     "output_type": "execute_result"
    }
   ],
   "source": [
    "tree.fit(X_train_resampled, y_train_resampled)"
   ]
  },
  {
   "cell_type": "markdown",
   "id": "f604ea6f",
   "metadata": {},
   "source": [
    "### Assess the model's quality\n",
    "\n",
    "The quality of a decision tree can be expressed as its _accuracy_ ,\n",
    "obtained as follows:"
   ]
  },
  {
   "cell_type": "code",
   "execution_count": 76,
   "id": "e261606c",
   "metadata": {},
   "outputs": [
    {
     "name": "stdout",
     "output_type": "stream",
     "text": [
      "Training score: 0.8950117716303708\n"
     ]
    }
   ],
   "source": [
    "train_score = tree.score(X_train_resampled, y_train_resampled)\n",
    "print(\"Training score:\", train_score)"
   ]
  },
  {
   "cell_type": "markdown",
   "id": "20859553",
   "metadata": {},
   "source": [
    "Now, I'm going to score the accuracy using the test data."
   ]
  },
  {
   "cell_type": "code",
   "execution_count": 77,
   "id": "3e8fa099",
   "metadata": {},
   "outputs": [
    {
     "name": "stdout",
     "output_type": "stream",
     "text": [
      "Testing score: 0.9051525919732442\n"
     ]
    }
   ],
   "source": [
    "test_score = tree.score(X_test, y_test)\n",
    "print(\"Testing score:\", test_score)"
   ]
  },
  {
   "cell_type": "markdown",
   "id": "086548b1",
   "metadata": {},
   "source": [
    "### Visualize the model\n"
   ]
  },
  {
   "cell_type": "code",
   "execution_count": 78,
   "id": "abe84ad2",
   "metadata": {
    "scrolled": false
   },
   "outputs": [
    {
     "data": {
      "image/png": "[encoded data removed]",
      "text/plain": [
       "<Figure size 432x288 with 1 Axes>"
      ]
     },
     "metadata": {
      "needs_background": "light"
     },
     "output_type": "display_data"
    }
   ],
   "source": [
    "plot_tree(tree);"
   ]
  },
  {
   "cell_type": "code",
   "execution_count": 79,
   "id": "af269b8f",
   "metadata": {
    "scrolled": false
   },
   "outputs": [
    {
     "name": "stdout",
     "output_type": "stream",
     "text": [
      "|--- feature_6 <= 6.70\n",
      "|   |--- feature_7 <= 210.00\n",
      "|   |   |--- feature_6 <= 5.35\n",
      "|   |   |   |--- class: 0\n",
      "|   |   |--- feature_6 >  5.35\n",
      "|   |   |   |--- feature_1 <= 44.50\n",
      "|   |   |   |   |--- feature_5 <= 32.47\n",
      "|   |   |   |   |   |--- feature_1 <= 27.50\n",
      "|   |   |   |   |   |   |--- feature_7 <= 113.00\n",
      "|   |   |   |   |   |   |   |--- class: 0\n",
      "|   |   |   |   |   |   |--- feature_7 >  113.00\n",
      "|   |   |   |   |   |   |   |--- class: 0\n",
      "|   |   |   |   |   |--- feature_1 >  27.50\n",
      "|   |   |   |   |   |   |--- feature_7 <= 113.00\n",
      "|   |   |   |   |   |   |   |--- class: 0\n",
      "|   |   |   |   |   |   |--- feature_7 >  113.00\n",
      "|   |   |   |   |   |   |   |--- class: 0\n",
      "|   |   |   |   |--- feature_5 >  32.47\n",
      "|   |   |   |   |   |--- feature_7 <= 113.00\n",
      "|   |   |   |   |   |   |--- class: 0\n",
      "|   |   |   |   |   |--- feature_7 >  113.00\n",
      "|   |   |   |   |   |   |--- feature_1 <= 26.50\n",
      "|   |   |   |   |   |   |   |--- class: 0\n",
      "|   |   |   |   |   |   |--- feature_1 >  26.50\n",
      "|   |   |   |   |   |   |   |--- class: 1\n",
      "|   |   |   |--- feature_1 >  44.50\n",
      "|   |   |   |   |--- feature_7 <= 113.00\n",
      "|   |   |   |   |   |--- class: 0\n",
      "|   |   |   |   |--- feature_7 >  113.00\n",
      "|   |   |   |   |   |--- feature_5 <= 28.84\n",
      "|   |   |   |   |   |   |--- feature_2 <= 0.50\n",
      "|   |   |   |   |   |   |   |--- class: 0\n",
      "|   |   |   |   |   |   |--- feature_2 >  0.50\n",
      "|   |   |   |   |   |   |   |--- class: 1\n",
      "|   |   |   |   |   |--- feature_5 >  28.84\n",
      "|   |   |   |   |   |   |--- feature_1 <= 58.50\n",
      "|   |   |   |   |   |   |   |--- class: 1\n",
      "|   |   |   |   |   |   |--- feature_1 >  58.50\n",
      "|   |   |   |   |   |   |   |--- class: 1\n",
      "|   |--- feature_7 >  210.00\n",
      "|   |   |--- class: 1\n",
      "|--- feature_6 >  6.70\n",
      "|   |--- class: 1\n",
      "\n"
     ]
    }
   ],
   "source": [
    "text_representation = export_text(tree)\n",
    "print(text_representation)"
   ]
  },
  {
   "cell_type": "markdown",
   "id": "0d69863a",
   "metadata": {},
   "source": [
    "### The confusion matrix\n",
    "\n",
    "The confusin matrix used to evaluate the performance of a model"
   ]
  },
  {
   "cell_type": "code",
   "execution_count": 80,
   "id": "0be4b76d",
   "metadata": {},
   "outputs": [
    {
     "name": "stdout",
     "output_type": "stream",
     "text": [
      "Confusion matrix:\n"
     ]
    },
    {
     "data": {
      "text/html": [
       "<div>\n",
       "<style scoped>\n",
       "    .dataframe tbody tr th:only-of-type {\n",
       "        vertical-align: middle;\n",
       "    }\n",
       "\n",
       "    .dataframe tbody tr th {\n",
       "        vertical-align: top;\n",
       "    }\n",
       "\n",
       "    .dataframe thead th {\n",
       "        text-align: right;\n",
       "    }\n",
       "</style>\n",
       "<table border=\"1\" class=\"dataframe\">\n",
       "  <thead>\n",
       "    <tr style=\"text-align: right;\">\n",
       "      <th></th>\n",
       "      <th>Yes diabetes</th>\n",
       "      <th>No diabetes</th>\n",
       "    </tr>\n",
       "  </thead>\n",
       "  <tbody>\n",
       "    <tr>\n",
       "      <th>Predicted diabetes</th>\n",
       "      <td>15839</td>\n",
       "      <td>1611</td>\n",
       "    </tr>\n",
       "    <tr>\n",
       "      <th>Predicted no diabetes</th>\n",
       "      <td>204</td>\n",
       "      <td>1482</td>\n",
       "    </tr>\n",
       "  </tbody>\n",
       "</table>\n",
       "</div>"
      ],
      "text/plain": [
       "                       Yes diabetes  No diabetes\n",
       "Predicted diabetes            15839         1611\n",
       "Predicted no diabetes           204         1482"
      ]
     },
     "execution_count": 80,
     "metadata": {},
     "output_type": "execute_result"
    }
   ],
   "source": [
    "y_pred = grid_search.predict(X_test)\n",
    "confusion_mat = confusion_matrix(y_test, y_pred)\n",
    "\n",
    "col_names = ['Yes diabetes', 'No diabetes']\n",
    "row_names = ['Predicted diabetes', 'Predicted no diabetes']\n",
    "confusion_df = pd.DataFrame(confusion_mat, index=row_names, columns=col_names)\n",
    "print(\"Confusion matrix:\")\n",
    "confusion_df"
   ]
  },
  {
   "cell_type": "markdown",
   "id": "71757852",
   "metadata": {},
   "source": [
    "### ROC curve\n",
    "\n",
    "The ROC curve is a graph that shows how a model can distinguish between different classes. It shows the relationship between two things true positives and false positives. The curve allows you to compare different modelsand it gives an idea of how well your model is performing. "
   ]
  },
  {
   "cell_type": "code",
   "execution_count": 81,
   "id": "5368189c",
   "metadata": {},
   "outputs": [
    {
     "data": {
      "image/png": "[encoded data removed]",
      "text/plain": [
       "<Figure size 432x288 with 1 Axes>"
      ]
     },
     "metadata": {
      "needs_background": "light"
     },
     "output_type": "display_data"
    }
   ],
   "source": [
    "fpr, tpr, thresholds = roc_curve(y_test, y_pred)\n",
    "auc_roc = roc_auc_score(y_test, y_pred)\n",
    "plt.plot(fpr, tpr, label=f'ROC Curve (AUC = {auc_roc:.2f})')\n",
    "plt.xlabel('False Positive Rate')\n",
    "plt.ylabel('True Positive Rate')\n",
    "plt.title('ROC Curve')\n",
    "plt.legend()\n",
    "plt.show()"
   ]
  },
  {
   "cell_type": "markdown",
   "id": "cab11b19",
   "metadata": {},
   "source": [
    "### Effect of the hyper-parameters on the confusion matrix, accuracy and ROC curve\n",
    "\n",
    "First I'm going to build multiple models with different hyper-parameters, after the models are fitted next step is to look into different confusion matrixs and roc curves. This would give me an ideea how the model performs and better understand it."
   ]
  },
  {
   "cell_type": "code",
   "execution_count": 82,
   "id": "2f4559b6",
   "metadata": {},
   "outputs": [],
   "source": [
    "tree = DecisionTreeClassifier()\n",
    "tree_1 = DecisionTreeClassifier(max_depth=7, min_samples_leaf=1, min_samples_split=5)\n",
    "tree_2 = DecisionTreeClassifier(max_depth=None, min_samples_leaf=1, min_samples_split=10)\n",
    "tree_3 = DecisionTreeClassifier(max_depth=5, min_samples_leaf=1, min_samples_split=10)"
   ]
  },
  {
   "cell_type": "code",
   "execution_count": 83,
   "id": "d9eb06f7",
   "metadata": {},
   "outputs": [
    {
     "data": {
      "text/html": [
       "<style>#sk-container-id-5 {color: black;background-color: white;}#sk-container-id-5 pre{padding: 0;}#sk-container-id-5 div.sk-toggleable {background-color: white;}#sk-container-id-5 label.sk-toggleable__label {cursor: pointer;display: block;width: 100%;margin-bottom: 0;padding: 0.3em;box-sizing: border-box;text-align: center;}#sk-container-id-5 label.sk-toggleable__label-arrow:before {content: \"▸\";float: left;margin-right: 0.25em;color: #696969;}#sk-container-id-5 label.sk-toggleable__label-arrow:hover:before {color: black;}#sk-container-id-5 div.sk-estimator:hover label.sk-toggleable__label-arrow:before {color: black;}#sk-container-id-5 div.sk-toggleable__content {max-height: 0;max-width: 0;overflow: hidden;text-align: left;background-color: #f0f8ff;}#sk-container-id-5 div.sk-toggleable__content pre {margin: 0.2em;color: black;border-radius: 0.25em;background-color: #f0f8ff;}#sk-container-id-5 input.sk-toggleable__control:checked~div.sk-toggleable__content {max-height: 200px;max-width: 100%;overflow: auto;}#sk-container-id-5 input.sk-toggleable__control:checked~label.sk-toggleable__label-arrow:before {content: \"▾\";}#sk-container-id-5 div.sk-estimator input.sk-toggleable__control:checked~label.sk-toggleable__label {background-color: #d4ebff;}#sk-container-id-5 div.sk-label input.sk-toggleable__control:checked~label.sk-toggleable__label {background-color: #d4ebff;}#sk-container-id-5 input.sk-hidden--visually {border: 0;clip: rect(1px 1px 1px 1px);clip: rect(1px, 1px, 1px, 1px);height: 1px;margin: -1px;overflow: hidden;padding: 0;position: absolute;width: 1px;}#sk-container-id-5 div.sk-estimator {font-family: monospace;background-color: #f0f8ff;border: 1px dotted black;border-radius: 0.25em;box-sizing: border-box;margin-bottom: 0.5em;}#sk-container-id-5 div.sk-estimator:hover {background-color: #d4ebff;}#sk-container-id-5 div.sk-parallel-item::after {content: \"\";width: 100%;border-bottom: 1px solid gray;flex-grow: 1;}#sk-container-id-5 div.sk-label:hover label.sk-toggleable__label {background-color: #d4ebff;}#sk-container-id-5 div.sk-serial::before {content: \"\";position: absolute;border-left: 1px solid gray;box-sizing: border-box;top: 0;bottom: 0;left: 50%;z-index: 0;}#sk-container-id-5 div.sk-serial {display: flex;flex-direction: column;align-items: center;background-color: white;padding-right: 0.2em;padding-left: 0.2em;position: relative;}#sk-container-id-5 div.sk-item {position: relative;z-index: 1;}#sk-container-id-5 div.sk-parallel {display: flex;align-items: stretch;justify-content: center;background-color: white;position: relative;}#sk-container-id-5 div.sk-item::before, #sk-container-id-5 div.sk-parallel-item::before {content: \"\";position: absolute;border-left: 1px solid gray;box-sizing: border-box;top: 0;bottom: 0;left: 50%;z-index: -1;}#sk-container-id-5 div.sk-parallel-item {display: flex;flex-direction: column;z-index: 1;position: relative;background-color: white;}#sk-container-id-5 div.sk-parallel-item:first-child::after {align-self: flex-end;width: 50%;}#sk-container-id-5 div.sk-parallel-item:last-child::after {align-self: flex-start;width: 50%;}#sk-container-id-5 div.sk-parallel-item:only-child::after {width: 0;}#sk-container-id-5 div.sk-dashed-wrapped {border: 1px dashed gray;margin: 0 0.4em 0.5em 0.4em;box-sizing: border-box;padding-bottom: 0.4em;background-color: white;}#sk-container-id-5 div.sk-label label {font-family: monospace;font-weight: bold;display: inline-block;line-height: 1.2em;}#sk-container-id-5 div.sk-label-container {text-align: center;}#sk-container-id-5 div.sk-container {/* jupyter's `normalize.less` sets `[hidden] { display: none; }` but bootstrap.min.css set `[hidden] { display: none !important; }` so we also need the `!important` here to be able to override the default hidden behavior on the sphinx rendered scikit-learn.org. See: https://github.com/scikit-learn/scikit-learn/issues/21755 */display: inline-block !important;position: relative;}#sk-container-id-5 div.sk-text-repr-fallback {display: none;}</style><div id=\"sk-container-id-5\" class=\"sk-top-container\"><div class=\"sk-text-repr-fallback\"><pre>DecisionTreeClassifier(max_depth=5, min_samples_split=10)</pre><b>In a Jupyter environment, please rerun this cell to show the HTML representation or trust the notebook. <br />On GitHub, the HTML representation is unable to render, please try loading this page with nbviewer.org.</b></div><div class=\"sk-container\" hidden><div class=\"sk-item\"><div class=\"sk-estimator sk-toggleable\"><input class=\"sk-toggleable__control sk-hidden--visually\" id=\"sk-estimator-id-5\" type=\"checkbox\" checked><label for=\"sk-estimator-id-5\" class=\"sk-toggleable__label sk-toggleable__label-arrow\">DecisionTreeClassifier</label><div class=\"sk-toggleable__content\"><pre>DecisionTreeClassifier(max_depth=5, min_samples_split=10)</pre></div></div></div></div></div>"
      ],
      "text/plain": [
       "DecisionTreeClassifier(max_depth=5, min_samples_split=10)"
      ]
     },
     "execution_count": 83,
     "metadata": {},
     "output_type": "execute_result"
    }
   ],
   "source": [
    "tree.fit(X_train_resampled, y_train_resampled)\n",
    "tree_1.fit(X_train_resampled, y_train_resampled)\n",
    "tree_2.fit(X_train_resampled, y_train_resampled)\n",
    "tree_3.fit(X_train_resampled, y_train_resampled)"
   ]
  },
  {
   "cell_type": "code",
   "execution_count": 84,
   "id": "312de035",
   "metadata": {},
   "outputs": [
    {
     "data": {
      "image/png": "[encoded data removed]",
      "text/plain": [
       "<Figure size 432x288 with 1 Axes>"
      ]
     },
     "metadata": {
      "needs_background": "light"
     },
     "output_type": "display_data"
    },
    {
     "data": {
      "image/png": "[encoded data removed]",
      "text/plain": [
       "<Figure size 432x288 with 1 Axes>"
      ]
     },
     "metadata": {
      "needs_background": "light"
     },
     "output_type": "display_data"
    },
    {
     "data": {
      "image/png": "[encoded data removed]",
      "text/plain": [
       "<Figure size 432x288 with 1 Axes>"
      ]
     },
     "metadata": {
      "needs_background": "light"
     },
     "output_type": "display_data"
    },
    {
     "data": {
      "image/png": "[encoded data removed]",
      "text/plain": [
       "<Figure size 432x288 with 1 Axes>"
      ]
     },
     "metadata": {
      "needs_background": "light"
     },
     "output_type": "display_data"
    }
   ],
   "source": [
    "y_pred = tree.predict(X_test)\n",
    "y_pred_1 = tree_1.predict(X_test)\n",
    "y_pred_2 = tree_2.predict(X_test)\n",
    "y_pred_3 = tree_3.predict(X_test)\n",
    "\n",
    "auc_roc = roc_auc_score(y_test, y_pred)\n",
    "plt.plot(fpr, tpr, label=f'ROC Curve (AUC = {auc_roc:.2f})')\n",
    "plt.xlabel('False Positive Rate')\n",
    "plt.ylabel('True Positive Rate')\n",
    "plt.title('ROC Curve Tree')\n",
    "plt.legend()\n",
    "plt.show()\n",
    "\n",
    "auc_roc = roc_auc_score(y_test, y_pred_1)\n",
    "plt.plot(fpr, tpr, label=f'ROC Curve (AUC = {auc_roc:.2f})')\n",
    "plt.xlabel('False Positive Rate')\n",
    "plt.ylabel('True Positive Rate')\n",
    "plt.title('ROC Curve Tree_1')\n",
    "plt.legend()\n",
    "plt.show()\n",
    "\n",
    "auc_roc = roc_auc_score(y_test, y_pred_2)\n",
    "plt.plot(fpr, tpr, label=f'ROC Curve (AUC = {auc_roc:.2f})')\n",
    "plt.xlabel('False Positive Rate')\n",
    "plt.ylabel('True Positive Rate')\n",
    "plt.title('ROC Curve Tree_2')\n",
    "plt.legend()\n",
    "plt.show()\n",
    "\n",
    "auc_roc = roc_auc_score(y_test, y_pred_3)\n",
    "plt.plot(fpr, tpr, label=f'ROC Curve (AUC = {auc_roc:.2f})')\n",
    "plt.xlabel('False Positive Rate')\n",
    "plt.ylabel('True Positive Rate')\n",
    "plt.title('ROC Curve Tree_3')\n",
    "plt.legend()\n",
    "plt.show()"
   ]
  },
  {
   "cell_type": "code",
   "execution_count": 85,
   "id": "456977db",
   "metadata": {},
   "outputs": [
    {
     "data": {
      "image/png": "[encoded data removed]",
      "text/plain": [
       "<Figure size 720x432 with 1 Axes>"
      ]
     },
     "metadata": {
      "needs_background": "light"
     },
     "output_type": "display_data"
    }
   ],
   "source": [
    "cm1 = confusion_matrix(y_test, y_pred)\n",
    "cm2 = confusion_matrix(y_test, y_pred_1)\n",
    "cm3 = confusion_matrix(y_test, y_pred_2)\n",
    "cm4 = confusion_matrix(y_test, y_pred_3)\n",
    "\n",
    "acc1 = accuracy_score(y_test, y_pred)\n",
    "acc2 = accuracy_score(y_test, y_pred_1)\n",
    "acc3 = accuracy_score(y_test, y_pred_2)\n",
    "acc4 = accuracy_score(y_test, y_pred_3)\n",
    "\n",
    "f1_1 = f1_score(y_test, y_pred)\n",
    "f1_2 = f1_score(y_test, y_pred_1)\n",
    "f1_3 = f1_score(y_test, y_pred_2)\n",
    "f1_4 = f1_score(y_test, y_pred_3)\n",
    "\n",
    "data = {\n",
    "    'Tree Name': ['Tree', 'Tree_1', 'Tree_2', 'Tree_3'],\n",
    "    'True Negative': [cm1.ravel()[0], cm2.ravel()[0], cm3.ravel()[0], cm4.ravel()[0]],\n",
    "    'True Positive': [cm1.ravel()[3], cm2.ravel()[3], cm3.ravel()[3], cm4.ravel()[3]],\n",
    "    'False Negative': [cm1.ravel()[2], cm2.ravel()[2], cm3.ravel()[2], cm4.ravel()[2]],\n",
    "    'False Positive': [cm1.ravel()[1], cm2.ravel()[1], cm3.ravel()[1], cm4.ravel()[1]],\n",
    "    'Accuracy Score': [acc1, acc2, acc3, acc4],\n",
    "    'F1 Score': [f1_1, f1_2, f1_3, f1_4]\n",
    "}\n",
    "\n",
    "df = pd.DataFrame(data)\n",
    "df.set_index('Tree Name', inplace=True)\n",
    "\n",
    "plt.figure(figsize=(10, 6))\n",
    "sns.heatmap(df, annot=True, cmap='Blues', fmt=\".3f\", cbar=False)\n",
    "plt.title('Comparison Matrix')\n",
    "plt.show()"
   ]
  },
  {
   "cell_type": "markdown",
   "id": "3c6992de",
   "metadata": {},
   "source": [
    "Looking at different tuning I can tell that some hyper-parameters work better than others. Tree_1 seems to have the higest acurracy, highest AUC, highest F1 score and a lot of correct predictions but It has a lot of wrong dangerous predictions (False Positive). Tree_1 preforms better than others trees."
   ]
  },
  {
   "cell_type": "markdown",
   "id": "39c50514",
   "metadata": {},
   "source": [
    "## Make predictions\n",
    "\n",
    "Given one or more additional data points, you can find their predicted target value\n",
    "with the function **`predict()`**."
   ]
  },
  {
   "cell_type": "code",
   "execution_count": 87,
   "id": "360328cc",
   "metadata": {},
   "outputs": [
    {
     "data": {
      "text/html": [
       "<div>\n",
       "<style scoped>\n",
       "    .dataframe tbody tr th:only-of-type {\n",
       "        vertical-align: middle;\n",
       "    }\n",
       "\n",
       "    .dataframe tbody tr th {\n",
       "        vertical-align: top;\n",
       "    }\n",
       "\n",
       "    .dataframe thead th {\n",
       "        text-align: right;\n",
       "    }\n",
       "</style>\n",
       "<table border=\"1\" class=\"dataframe\">\n",
       "  <thead>\n",
       "    <tr style=\"text-align: right;\">\n",
       "      <th></th>\n",
       "      <th>True Negative</th>\n",
       "      <th>True Positive</th>\n",
       "      <th>False Negative</th>\n",
       "      <th>False Positive</th>\n",
       "      <th>Accuracy Score</th>\n",
       "      <th>F1 Score</th>\n",
       "    </tr>\n",
       "    <tr>\n",
       "      <th>Tree Name</th>\n",
       "      <th></th>\n",
       "      <th></th>\n",
       "      <th></th>\n",
       "      <th></th>\n",
       "      <th></th>\n",
       "      <th></th>\n",
       "    </tr>\n",
       "  </thead>\n",
       "  <tbody>\n",
       "    <tr>\n",
       "      <th>Tree</th>\n",
       "      <td>15273</td>\n",
       "      <td>1476</td>\n",
       "      <td>210</td>\n",
       "      <td>2177</td>\n",
       "      <td>0.875261</td>\n",
       "      <td>0.552913</td>\n",
       "    </tr>\n",
       "    <tr>\n",
       "      <th>Tree_1</th>\n",
       "      <td>15839</td>\n",
       "      <td>1482</td>\n",
       "      <td>204</td>\n",
       "      <td>1611</td>\n",
       "      <td>0.905153</td>\n",
       "      <td>0.620213</td>\n",
       "    </tr>\n",
       "    <tr>\n",
       "      <th>Tree_2</th>\n",
       "      <td>15455</td>\n",
       "      <td>1483</td>\n",
       "      <td>203</td>\n",
       "      <td>1995</td>\n",
       "      <td>0.885138</td>\n",
       "      <td>0.574361</td>\n",
       "    </tr>\n",
       "    <tr>\n",
       "      <th>Tree_3</th>\n",
       "      <td>14272</td>\n",
       "      <td>1625</td>\n",
       "      <td>61</td>\n",
       "      <td>3178</td>\n",
       "      <td>0.830738</td>\n",
       "      <td>0.500848</td>\n",
       "    </tr>\n",
       "  </tbody>\n",
       "</table>\n",
       "</div>"
      ],
      "text/plain": [
       "           True Negative  True Positive  False Negative  False Positive   \n",
       "Tree Name                                                                 \n",
       "Tree               15273           1476             210            2177  \\\n",
       "Tree_1             15839           1482             204            1611   \n",
       "Tree_2             15455           1483             203            1995   \n",
       "Tree_3             14272           1625              61            3178   \n",
       "\n",
       "           Accuracy Score  F1 Score  \n",
       "Tree Name                            \n",
       "Tree             0.875261  0.552913  \n",
       "Tree_1           0.905153  0.620213  \n",
       "Tree_2           0.885138  0.574361  \n",
       "Tree_3           0.830738  0.500848  "
      ]
     },
     "execution_count": 87,
     "metadata": {},
     "output_type": "execute_result"
    }
   ],
   "source": [
    "df.head(5)"
   ]
  },
  {
   "cell_type": "code",
   "execution_count": 88,
   "id": "39d91b71",
   "metadata": {},
   "outputs": [
    {
     "name": "stdout",
     "output_type": "stream",
     "text": [
      "[0]\n"
     ]
    }
   ],
   "source": [
    "entry = pd.DataFrame({'gender': [1],\n",
    "                      'age': [28],\n",
    "                      'hypertension': [0],\n",
    "                      'heart_disease': [0],\n",
    "                      'smoking_history': [0],\n",
    "                      'bmi': [27.32],\n",
    "                      'HbA1c_level': [5.7],\n",
    "                      'blood_glucose_level': [158],\n",
    "                      \n",
    "                     })\n",
    "\n",
    "\n",
    "prediction = tree.predict(entry)\n",
    "\n",
    "print(prediction)"
   ]
  },
  {
   "cell_type": "markdown",
   "id": "630c6913",
   "metadata": {},
   "source": [
    "This is an example of a prediction, 0 means no diabetes.\n",
    "\n",
    "### Thank you!"
   ]
  },
  {
   "cell_type": "markdown",
   "id": "cf4d1db7",
   "metadata": {},
   "source": [
    "# REFERANCES \n",
    "\n",
    "    Wikipedia. (n.d.). Data modeling. Retrieved from https://en.wikipedia.org/wiki/Data_modeling\n",
    "\n",
    "    Kaggle. (n.d.). Diabetes Prediction Dataset. Retrieved from https://www.kaggle.com/datasets/iammustafatz\n",
    "\n",
    "    Ferreira, N. (n.d.). From Data to Viz. Retrieved from https://www.data-to-viz.com/\n",
    "\n",
    "    scikit-learn. (n.d.). GridSearchCV. Retrieved from https://scikit-learn.org/stable/modules/generated/sklearn.model_selection.GridSearchCV.html\n",
    "\n",
    "    Lemaitre, G., Nogueira, F., & Aridas, C. (2021). imbalanced-learn: A Python Toolbox to Tackle the Curse of Imbalanced Datasets in Machine Learning. Journal of Machine Learning Research, 18(17), 1-5. Retrieved from https://pypi.org/project/imbalanced-learn/\n",
    "\n",
    "    Wikipedia. (n.d.). Receiver Operating Characteristic. Retrieved from https://en.wikipedia.org/wiki/Receiver_operating_characteristicestablishing"
   ]
  }
 ],
 "metadata": {
  "kernelspec": {
   "display_name": "Python 3 (ipykernel)",
   "language": "python",
   "name": "python3"
  },
  "language_info": {
   "codemirror_mode": {
    "name": "ipython",
    "version": 3
   },
   "file_extension": ".py",
   "mimetype": "text/x-python",
   "name": "python",
   "nbconvert_exporter": "python",
   "pygments_lexer": "ipython3",
   "version": "3.10.6"
  }
 },
 "nbformat": 4,
 "nbformat_minor": 5
}
